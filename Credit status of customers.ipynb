{
 "cells": [
  {
   "cell_type": "markdown",
   "metadata": {},
   "source": [
    "# Credit status of customers"
   ]
  },
  {
   "cell_type": "markdown",
   "metadata": {},
   "source": [
    "# Context\n",
    "Attached is a ‘credit’ dataset having information about loan repayment and credit status of customers of a bank.\n",
    "Customers have been categorised as ‘good’ and ‘bad’, based on their NPA_Status (non-performing asset status).\n",
    "\n"
   ]
  },
  {
   "cell_type": "markdown",
   "metadata": {},
   "source": [
    "# Target\n",
    "1. Check the data for outliers and missing values and where found, treat them appropriately.\n",
    "2. Prepare the data for model building.\n",
    "3. Decide on the appropriate algorithm to segment the good and bad customers correctly so that required strategies can be built on them.\n"
   ]
  },
  {
   "cell_type": "markdown",
   "metadata": {},
   "source": [
    "# Import the necessary modules"
   ]
  },
  {
   "cell_type": "code",
   "execution_count": 1,
   "metadata": {},
   "outputs": [],
   "source": [
    "import numpy as np\n",
    "import pandas as pd\n",
    "import matplotlib.pyplot as plt\n",
    "import seaborn as sns\n",
    "from scipy.stats import skew\n",
    "from sklearn.preprocessing import LabelEncoder\n",
    "lb=LabelEncoder()\n",
    "from sklearn.feature_selection import chi2\n",
    "from imblearn.combine import SMOTETomek "
   ]
  },
  {
   "cell_type": "code",
   "execution_count": 2,
   "metadata": {},
   "outputs": [],
   "source": [
    "from sklearn.neighbors import KNeighborsClassifier\n",
    "from sklearn.naive_bayes import GaussianNB\n",
    "from sklearn.linear_model import LogisticRegression\n",
    "from sklearn.tree import DecisionTreeClassifier\n",
    "from sklearn.ensemble import RandomForestClassifier\n",
    "from sklearn.metrics import accuracy_score, confusion_matrix, classification_report "
   ]
  },
  {
   "cell_type": "code",
   "execution_count": 3,
   "metadata": {},
   "outputs": [],
   "source": [
    "import warnings\n",
    "warnings.filterwarnings(\"ignore\")\n"
   ]
  },
  {
   "cell_type": "markdown",
   "metadata": {},
   "source": [
    "# Read the DataSet into a DataFrame"
   ]
  },
  {
   "cell_type": "code",
   "execution_count": 4,
   "metadata": {},
   "outputs": [],
   "source": [
    "df = pd.read_csv(\"D:/creditcard.csv\")"
   ]
  },
  {
   "cell_type": "code",
   "execution_count": 5,
   "metadata": {},
   "outputs": [
    {
     "data": {
      "text/html": [
       "<div>\n",
       "<style scoped>\n",
       "    .dataframe tbody tr th:only-of-type {\n",
       "        vertical-align: middle;\n",
       "    }\n",
       "\n",
       "    .dataframe tbody tr th {\n",
       "        vertical-align: top;\n",
       "    }\n",
       "\n",
       "    .dataframe thead th {\n",
       "        text-align: right;\n",
       "    }\n",
       "</style>\n",
       "<table border=\"1\" class=\"dataframe\">\n",
       "  <thead>\n",
       "    <tr style=\"text-align: right;\">\n",
       "      <th></th>\n",
       "      <th>NPA Status</th>\n",
       "      <th>RevolvingUtilizationOfUnsecuredLines</th>\n",
       "      <th>age</th>\n",
       "      <th>Gender</th>\n",
       "      <th>Region</th>\n",
       "      <th>MonthlyIncome</th>\n",
       "      <th>Rented_OwnHouse</th>\n",
       "      <th>Occupation</th>\n",
       "      <th>Education</th>\n",
       "      <th>NumberOfTime30-59DaysPastDueNotWorse</th>\n",
       "      <th>DebtRatio</th>\n",
       "      <th>MonthlyIncome.1</th>\n",
       "      <th>NumberOfOpenCreditLinesAndLoans</th>\n",
       "      <th>NumberOfTimes90DaysLate</th>\n",
       "      <th>NumberRealEstateLoansOrLines</th>\n",
       "      <th>NumberOfTime60-89DaysPastDueNotWorse</th>\n",
       "      <th>NumberOfDependents</th>\n",
       "      <th>Good_Bad</th>\n",
       "    </tr>\n",
       "  </thead>\n",
       "  <tbody>\n",
       "    <tr>\n",
       "      <th>0</th>\n",
       "      <td>1.0</td>\n",
       "      <td>0.766127</td>\n",
       "      <td>45.0</td>\n",
       "      <td>Male</td>\n",
       "      <td>South</td>\n",
       "      <td>9120.0</td>\n",
       "      <td>Ownhouse</td>\n",
       "      <td>Self_Emp</td>\n",
       "      <td>Matric</td>\n",
       "      <td>2.0</td>\n",
       "      <td>0.802982</td>\n",
       "      <td>9120.0</td>\n",
       "      <td>13.0</td>\n",
       "      <td>0.0</td>\n",
       "      <td>6.0</td>\n",
       "      <td>0.0</td>\n",
       "      <td>2</td>\n",
       "      <td>Bad</td>\n",
       "    </tr>\n",
       "    <tr>\n",
       "      <th>1</th>\n",
       "      <td>0.0</td>\n",
       "      <td>0.957151</td>\n",
       "      <td>40.0</td>\n",
       "      <td>Female</td>\n",
       "      <td>South</td>\n",
       "      <td>2600.0</td>\n",
       "      <td>Ownhouse</td>\n",
       "      <td>Self_Emp</td>\n",
       "      <td>Graduate</td>\n",
       "      <td>0.0</td>\n",
       "      <td>0.121876</td>\n",
       "      <td>2600.0</td>\n",
       "      <td>4.0</td>\n",
       "      <td>0.0</td>\n",
       "      <td>0.0</td>\n",
       "      <td>0.0</td>\n",
       "      <td>1</td>\n",
       "      <td>Good</td>\n",
       "    </tr>\n",
       "    <tr>\n",
       "      <th>2</th>\n",
       "      <td>0.0</td>\n",
       "      <td>0.658180</td>\n",
       "      <td>38.0</td>\n",
       "      <td>Female</td>\n",
       "      <td>South</td>\n",
       "      <td>3042.0</td>\n",
       "      <td>Ownhouse</td>\n",
       "      <td>Self_Emp</td>\n",
       "      <td>PhD</td>\n",
       "      <td>1.0</td>\n",
       "      <td>0.085113</td>\n",
       "      <td>3042.0</td>\n",
       "      <td>2.0</td>\n",
       "      <td>1.0</td>\n",
       "      <td>0.0</td>\n",
       "      <td>0.0</td>\n",
       "      <td>0</td>\n",
       "      <td>Good</td>\n",
       "    </tr>\n",
       "  </tbody>\n",
       "</table>\n",
       "</div>"
      ],
      "text/plain": [
       "   NPA Status  RevolvingUtilizationOfUnsecuredLines   age  Gender Region  \\\n",
       "0         1.0                              0.766127  45.0    Male  South   \n",
       "1         0.0                              0.957151  40.0  Female  South   \n",
       "2         0.0                              0.658180  38.0  Female  South   \n",
       "\n",
       "   MonthlyIncome Rented_OwnHouse Occupation Education  \\\n",
       "0         9120.0        Ownhouse   Self_Emp    Matric   \n",
       "1         2600.0        Ownhouse   Self_Emp  Graduate   \n",
       "2         3042.0        Ownhouse   Self_Emp       PhD   \n",
       "\n",
       "   NumberOfTime30-59DaysPastDueNotWorse  DebtRatio  MonthlyIncome.1  \\\n",
       "0                                   2.0   0.802982           9120.0   \n",
       "1                                   0.0   0.121876           2600.0   \n",
       "2                                   1.0   0.085113           3042.0   \n",
       "\n",
       "   NumberOfOpenCreditLinesAndLoans  NumberOfTimes90DaysLate  \\\n",
       "0                             13.0                      0.0   \n",
       "1                              4.0                      0.0   \n",
       "2                              2.0                      1.0   \n",
       "\n",
       "   NumberRealEstateLoansOrLines  NumberOfTime60-89DaysPastDueNotWorse  \\\n",
       "0                           6.0                                   0.0   \n",
       "1                           0.0                                   0.0   \n",
       "2                           0.0                                   0.0   \n",
       "\n",
       "  NumberOfDependents Good_Bad  \n",
       "0                  2      Bad  \n",
       "1                  1     Good  \n",
       "2                  0     Good  "
      ]
     },
     "execution_count": 5,
     "metadata": {},
     "output_type": "execute_result"
    }
   ],
   "source": [
    "df.head(3)"
   ]
  },
  {
   "cell_type": "code",
   "execution_count": 6,
   "metadata": {},
   "outputs": [
    {
     "data": {
      "text/html": [
       "<div>\n",
       "<style scoped>\n",
       "    .dataframe tbody tr th:only-of-type {\n",
       "        vertical-align: middle;\n",
       "    }\n",
       "\n",
       "    .dataframe tbody tr th {\n",
       "        vertical-align: top;\n",
       "    }\n",
       "\n",
       "    .dataframe thead th {\n",
       "        text-align: right;\n",
       "    }\n",
       "</style>\n",
       "<table border=\"1\" class=\"dataframe\">\n",
       "  <thead>\n",
       "    <tr style=\"text-align: right;\">\n",
       "      <th></th>\n",
       "      <th>NPA Status</th>\n",
       "      <th>RevolvingUtilizationOfUnsecuredLines</th>\n",
       "      <th>age</th>\n",
       "      <th>Gender</th>\n",
       "      <th>Region</th>\n",
       "      <th>MonthlyIncome</th>\n",
       "      <th>Rented_OwnHouse</th>\n",
       "      <th>Occupation</th>\n",
       "      <th>Education</th>\n",
       "      <th>NumberOfTime30-59DaysPastDueNotWorse</th>\n",
       "      <th>DebtRatio</th>\n",
       "      <th>MonthlyIncome.1</th>\n",
       "      <th>NumberOfOpenCreditLinesAndLoans</th>\n",
       "      <th>NumberOfTimes90DaysLate</th>\n",
       "      <th>NumberRealEstateLoansOrLines</th>\n",
       "      <th>NumberOfTime60-89DaysPastDueNotWorse</th>\n",
       "      <th>NumberOfDependents</th>\n",
       "      <th>Good_Bad</th>\n",
       "    </tr>\n",
       "  </thead>\n",
       "  <tbody>\n",
       "    <tr>\n",
       "      <th>149999</th>\n",
       "      <td>0.0</td>\n",
       "      <td>0.850283</td>\n",
       "      <td>64.0</td>\n",
       "      <td>Male</td>\n",
       "      <td>North</td>\n",
       "      <td>8158.0</td>\n",
       "      <td>Ownhouse</td>\n",
       "      <td>Self_Emp</td>\n",
       "      <td>Professional</td>\n",
       "      <td>0.0</td>\n",
       "      <td>0.249908</td>\n",
       "      <td>8158.0</td>\n",
       "      <td>8.0</td>\n",
       "      <td>0.0</td>\n",
       "      <td>2.0</td>\n",
       "      <td>0.0</td>\n",
       "      <td>0</td>\n",
       "      <td>Good</td>\n",
       "    </tr>\n",
       "    <tr>\n",
       "      <th>150000</th>\n",
       "      <td>NaN</td>\n",
       "      <td>NaN</td>\n",
       "      <td>NaN</td>\n",
       "      <td>NaN</td>\n",
       "      <td>NaN</td>\n",
       "      <td>NaN</td>\n",
       "      <td>NaN</td>\n",
       "      <td>NaN</td>\n",
       "      <td>NaN</td>\n",
       "      <td>NaN</td>\n",
       "      <td>NaN</td>\n",
       "      <td>NaN</td>\n",
       "      <td>NaN</td>\n",
       "      <td>NaN</td>\n",
       "      <td>NaN</td>\n",
       "      <td>NaN</td>\n",
       "      <td>Good</td>\n",
       "      <td>NaN</td>\n",
       "    </tr>\n",
       "    <tr>\n",
       "      <th>150001</th>\n",
       "      <td>NaN</td>\n",
       "      <td>NaN</td>\n",
       "      <td>NaN</td>\n",
       "      <td>NaN</td>\n",
       "      <td>NaN</td>\n",
       "      <td>NaN</td>\n",
       "      <td>NaN</td>\n",
       "      <td>NaN</td>\n",
       "      <td>NaN</td>\n",
       "      <td>NaN</td>\n",
       "      <td>NaN</td>\n",
       "      <td>NaN</td>\n",
       "      <td>NaN</td>\n",
       "      <td>NaN</td>\n",
       "      <td>NaN</td>\n",
       "      <td>NaN</td>\n",
       "      <td>Bad</td>\n",
       "      <td>NaN</td>\n",
       "    </tr>\n",
       "  </tbody>\n",
       "</table>\n",
       "</div>"
      ],
      "text/plain": [
       "        NPA Status  RevolvingUtilizationOfUnsecuredLines   age Gender Region  \\\n",
       "149999         0.0                              0.850283  64.0   Male  North   \n",
       "150000         NaN                                   NaN   NaN    NaN    NaN   \n",
       "150001         NaN                                   NaN   NaN    NaN    NaN   \n",
       "\n",
       "        MonthlyIncome Rented_OwnHouse Occupation     Education  \\\n",
       "149999         8158.0        Ownhouse   Self_Emp  Professional   \n",
       "150000            NaN             NaN        NaN           NaN   \n",
       "150001            NaN             NaN        NaN           NaN   \n",
       "\n",
       "        NumberOfTime30-59DaysPastDueNotWorse  DebtRatio  MonthlyIncome.1  \\\n",
       "149999                                   0.0   0.249908           8158.0   \n",
       "150000                                   NaN        NaN              NaN   \n",
       "150001                                   NaN        NaN              NaN   \n",
       "\n",
       "        NumberOfOpenCreditLinesAndLoans  NumberOfTimes90DaysLate  \\\n",
       "149999                              8.0                      0.0   \n",
       "150000                              NaN                      NaN   \n",
       "150001                              NaN                      NaN   \n",
       "\n",
       "        NumberRealEstateLoansOrLines  NumberOfTime60-89DaysPastDueNotWorse  \\\n",
       "149999                           2.0                                   0.0   \n",
       "150000                           NaN                                   NaN   \n",
       "150001                           NaN                                   NaN   \n",
       "\n",
       "       NumberOfDependents Good_Bad  \n",
       "149999                  0     Good  \n",
       "150000               Good      NaN  \n",
       "150001                Bad      NaN  "
      ]
     },
     "execution_count": 6,
     "metadata": {},
     "output_type": "execute_result"
    }
   ],
   "source": [
    "df.tail(3)"
   ]
  },
  {
   "cell_type": "code",
   "execution_count": 7,
   "metadata": {},
   "outputs": [
    {
     "data": {
      "text/plain": [
       "(150002, 18)"
      ]
     },
     "execution_count": 7,
     "metadata": {},
     "output_type": "execute_result"
    }
   ],
   "source": [
    "df.shape"
   ]
  },
  {
   "cell_type": "code",
   "execution_count": 8,
   "metadata": {},
   "outputs": [
    {
     "name": "stdout",
     "output_type": "stream",
     "text": [
      "<class 'pandas.core.frame.DataFrame'>\n",
      "RangeIndex: 150002 entries, 0 to 150001\n",
      "Data columns (total 18 columns):\n",
      " #   Column                                Non-Null Count   Dtype  \n",
      "---  ------                                --------------   -----  \n",
      " 0   NPA Status                            150000 non-null  float64\n",
      " 1   RevolvingUtilizationOfUnsecuredLines  150000 non-null  float64\n",
      " 2   age                                   150000 non-null  float64\n",
      " 3   Gender                                150000 non-null  object \n",
      " 4   Region                                150000 non-null  object \n",
      " 5   MonthlyIncome                         120269 non-null  float64\n",
      " 6   Rented_OwnHouse                       150000 non-null  object \n",
      " 7   Occupation                            150000 non-null  object \n",
      " 8   Education                             150000 non-null  object \n",
      " 9   NumberOfTime30-59DaysPastDueNotWorse  150000 non-null  float64\n",
      " 10  DebtRatio                             150000 non-null  float64\n",
      " 11  MonthlyIncome.1                       120269 non-null  float64\n",
      " 12  NumberOfOpenCreditLinesAndLoans       150000 non-null  float64\n",
      " 13  NumberOfTimes90DaysLate               150000 non-null  float64\n",
      " 14  NumberRealEstateLoansOrLines          150000 non-null  float64\n",
      " 15  NumberOfTime60-89DaysPastDueNotWorse  150000 non-null  float64\n",
      " 16  NumberOfDependents                    146078 non-null  object \n",
      " 17  Good_Bad                              150000 non-null  object \n",
      "dtypes: float64(11), object(7)\n",
      "memory usage: 20.6+ MB\n"
     ]
    }
   ],
   "source": [
    "df.info()"
   ]
  },
  {
   "cell_type": "code",
   "execution_count": 9,
   "metadata": {},
   "outputs": [
    {
     "data": {
      "text/html": [
       "<div>\n",
       "<style scoped>\n",
       "    .dataframe tbody tr th:only-of-type {\n",
       "        vertical-align: middle;\n",
       "    }\n",
       "\n",
       "    .dataframe tbody tr th {\n",
       "        vertical-align: top;\n",
       "    }\n",
       "\n",
       "    .dataframe thead th {\n",
       "        text-align: right;\n",
       "    }\n",
       "</style>\n",
       "<table border=\"1\" class=\"dataframe\">\n",
       "  <thead>\n",
       "    <tr style=\"text-align: right;\">\n",
       "      <th></th>\n",
       "      <th>NPA Status</th>\n",
       "      <th>RevolvingUtilizationOfUnsecuredLines</th>\n",
       "      <th>age</th>\n",
       "      <th>MonthlyIncome</th>\n",
       "      <th>NumberOfTime30-59DaysPastDueNotWorse</th>\n",
       "      <th>DebtRatio</th>\n",
       "      <th>MonthlyIncome.1</th>\n",
       "      <th>NumberOfOpenCreditLinesAndLoans</th>\n",
       "      <th>NumberOfTimes90DaysLate</th>\n",
       "      <th>NumberRealEstateLoansOrLines</th>\n",
       "      <th>NumberOfTime60-89DaysPastDueNotWorse</th>\n",
       "    </tr>\n",
       "  </thead>\n",
       "  <tbody>\n",
       "    <tr>\n",
       "      <th>count</th>\n",
       "      <td>150000.000000</td>\n",
       "      <td>150000.000000</td>\n",
       "      <td>150000.000000</td>\n",
       "      <td>1.202690e+05</td>\n",
       "      <td>150000.000000</td>\n",
       "      <td>150000.000000</td>\n",
       "      <td>1.202690e+05</td>\n",
       "      <td>150000.000000</td>\n",
       "      <td>150000.000000</td>\n",
       "      <td>150000.000000</td>\n",
       "      <td>150000.000000</td>\n",
       "    </tr>\n",
       "    <tr>\n",
       "      <th>mean</th>\n",
       "      <td>0.066840</td>\n",
       "      <td>6.048438</td>\n",
       "      <td>52.295207</td>\n",
       "      <td>6.670221e+03</td>\n",
       "      <td>0.421033</td>\n",
       "      <td>353.005076</td>\n",
       "      <td>6.670221e+03</td>\n",
       "      <td>8.452760</td>\n",
       "      <td>0.265973</td>\n",
       "      <td>1.018240</td>\n",
       "      <td>0.240387</td>\n",
       "    </tr>\n",
       "    <tr>\n",
       "      <th>std</th>\n",
       "      <td>0.249746</td>\n",
       "      <td>249.755371</td>\n",
       "      <td>14.771866</td>\n",
       "      <td>1.438467e+04</td>\n",
       "      <td>4.192781</td>\n",
       "      <td>2037.818523</td>\n",
       "      <td>1.438467e+04</td>\n",
       "      <td>5.145951</td>\n",
       "      <td>4.169304</td>\n",
       "      <td>1.129771</td>\n",
       "      <td>4.155179</td>\n",
       "    </tr>\n",
       "    <tr>\n",
       "      <th>min</th>\n",
       "      <td>0.000000</td>\n",
       "      <td>0.000000</td>\n",
       "      <td>0.000000</td>\n",
       "      <td>0.000000e+00</td>\n",
       "      <td>0.000000</td>\n",
       "      <td>0.000000</td>\n",
       "      <td>0.000000e+00</td>\n",
       "      <td>0.000000</td>\n",
       "      <td>0.000000</td>\n",
       "      <td>0.000000</td>\n",
       "      <td>0.000000</td>\n",
       "    </tr>\n",
       "    <tr>\n",
       "      <th>25%</th>\n",
       "      <td>0.000000</td>\n",
       "      <td>0.029867</td>\n",
       "      <td>41.000000</td>\n",
       "      <td>3.400000e+03</td>\n",
       "      <td>0.000000</td>\n",
       "      <td>0.175074</td>\n",
       "      <td>3.400000e+03</td>\n",
       "      <td>5.000000</td>\n",
       "      <td>0.000000</td>\n",
       "      <td>0.000000</td>\n",
       "      <td>0.000000</td>\n",
       "    </tr>\n",
       "    <tr>\n",
       "      <th>50%</th>\n",
       "      <td>0.000000</td>\n",
       "      <td>0.154181</td>\n",
       "      <td>52.000000</td>\n",
       "      <td>5.400000e+03</td>\n",
       "      <td>0.000000</td>\n",
       "      <td>0.366508</td>\n",
       "      <td>5.400000e+03</td>\n",
       "      <td>8.000000</td>\n",
       "      <td>0.000000</td>\n",
       "      <td>1.000000</td>\n",
       "      <td>0.000000</td>\n",
       "    </tr>\n",
       "    <tr>\n",
       "      <th>75%</th>\n",
       "      <td>0.000000</td>\n",
       "      <td>0.559046</td>\n",
       "      <td>63.000000</td>\n",
       "      <td>8.249000e+03</td>\n",
       "      <td>0.000000</td>\n",
       "      <td>0.868254</td>\n",
       "      <td>8.249000e+03</td>\n",
       "      <td>11.000000</td>\n",
       "      <td>0.000000</td>\n",
       "      <td>2.000000</td>\n",
       "      <td>0.000000</td>\n",
       "    </tr>\n",
       "    <tr>\n",
       "      <th>max</th>\n",
       "      <td>1.000000</td>\n",
       "      <td>50708.000000</td>\n",
       "      <td>109.000000</td>\n",
       "      <td>3.008750e+06</td>\n",
       "      <td>98.000000</td>\n",
       "      <td>329664.000000</td>\n",
       "      <td>3.008750e+06</td>\n",
       "      <td>58.000000</td>\n",
       "      <td>98.000000</td>\n",
       "      <td>54.000000</td>\n",
       "      <td>98.000000</td>\n",
       "    </tr>\n",
       "  </tbody>\n",
       "</table>\n",
       "</div>"
      ],
      "text/plain": [
       "          NPA Status  RevolvingUtilizationOfUnsecuredLines            age  \\\n",
       "count  150000.000000                         150000.000000  150000.000000   \n",
       "mean        0.066840                              6.048438      52.295207   \n",
       "std         0.249746                            249.755371      14.771866   \n",
       "min         0.000000                              0.000000       0.000000   \n",
       "25%         0.000000                              0.029867      41.000000   \n",
       "50%         0.000000                              0.154181      52.000000   \n",
       "75%         0.000000                              0.559046      63.000000   \n",
       "max         1.000000                          50708.000000     109.000000   \n",
       "\n",
       "       MonthlyIncome  NumberOfTime30-59DaysPastDueNotWorse      DebtRatio  \\\n",
       "count   1.202690e+05                         150000.000000  150000.000000   \n",
       "mean    6.670221e+03                              0.421033     353.005076   \n",
       "std     1.438467e+04                              4.192781    2037.818523   \n",
       "min     0.000000e+00                              0.000000       0.000000   \n",
       "25%     3.400000e+03                              0.000000       0.175074   \n",
       "50%     5.400000e+03                              0.000000       0.366508   \n",
       "75%     8.249000e+03                              0.000000       0.868254   \n",
       "max     3.008750e+06                             98.000000  329664.000000   \n",
       "\n",
       "       MonthlyIncome.1  NumberOfOpenCreditLinesAndLoans  \\\n",
       "count     1.202690e+05                    150000.000000   \n",
       "mean      6.670221e+03                         8.452760   \n",
       "std       1.438467e+04                         5.145951   \n",
       "min       0.000000e+00                         0.000000   \n",
       "25%       3.400000e+03                         5.000000   \n",
       "50%       5.400000e+03                         8.000000   \n",
       "75%       8.249000e+03                        11.000000   \n",
       "max       3.008750e+06                        58.000000   \n",
       "\n",
       "       NumberOfTimes90DaysLate  NumberRealEstateLoansOrLines  \\\n",
       "count            150000.000000                 150000.000000   \n",
       "mean                  0.265973                      1.018240   \n",
       "std                   4.169304                      1.129771   \n",
       "min                   0.000000                      0.000000   \n",
       "25%                   0.000000                      0.000000   \n",
       "50%                   0.000000                      1.000000   \n",
       "75%                   0.000000                      2.000000   \n",
       "max                  98.000000                     54.000000   \n",
       "\n",
       "       NumberOfTime60-89DaysPastDueNotWorse  \n",
       "count                         150000.000000  \n",
       "mean                               0.240387  \n",
       "std                                4.155179  \n",
       "min                                0.000000  \n",
       "25%                                0.000000  \n",
       "50%                                0.000000  \n",
       "75%                                0.000000  \n",
       "max                               98.000000  "
      ]
     },
     "execution_count": 9,
     "metadata": {},
     "output_type": "execute_result"
    }
   ],
   "source": [
    "df.describe()"
   ]
  },
  {
   "cell_type": "code",
   "execution_count": 10,
   "metadata": {},
   "outputs": [
    {
     "data": {
      "text/plain": [
       "Index(['NPA Status', 'RevolvingUtilizationOfUnsecuredLines', 'age', 'Gender',\n",
       "       'Region', 'MonthlyIncome', 'Rented_OwnHouse', 'Occupation', 'Education',\n",
       "       'NumberOfTime30-59DaysPastDueNotWorse', 'DebtRatio', 'MonthlyIncome.1',\n",
       "       'NumberOfOpenCreditLinesAndLoans', 'NumberOfTimes90DaysLate',\n",
       "       'NumberRealEstateLoansOrLines', 'NumberOfTime60-89DaysPastDueNotWorse',\n",
       "       'NumberOfDependents', 'Good_Bad'],\n",
       "      dtype='object')"
      ]
     },
     "execution_count": 10,
     "metadata": {},
     "output_type": "execute_result"
    }
   ],
   "source": [
    "df.columns"
   ]
  },
  {
   "cell_type": "markdown",
   "metadata": {},
   "source": [
    "# Missing Values\n",
    "We can use seaborn to create a simple heatmap to see where we are missing data"
   ]
  },
  {
   "cell_type": "code",
   "execution_count": 11,
   "metadata": {},
   "outputs": [
    {
     "data": {
      "text/plain": [
       "<AxesSubplot:>"
      ]
     },
     "execution_count": 11,
     "metadata": {},
     "output_type": "execute_result"
    },
    {
     "data": {
      "image/png": "[encoded data removed]",
      "text/plain": [
       "<Figure size 432x288 with 2 Axes>"
      ]
     },
     "metadata": {
      "needs_background": "light"
     },
     "output_type": "display_data"
    }
   ],
   "source": [
    "sns.heatmap(df.isnull(),cmap=\"viridis\")"
   ]
  },
  {
   "cell_type": "code",
   "execution_count": 12,
   "metadata": {},
   "outputs": [
    {
     "data": {
      "text/plain": [
       "NPA Status                                  2\n",
       "RevolvingUtilizationOfUnsecuredLines        2\n",
       "age                                         2\n",
       "Gender                                      2\n",
       "Region                                      2\n",
       "MonthlyIncome                           29733\n",
       "Rented_OwnHouse                             2\n",
       "Occupation                                  2\n",
       "Education                                   2\n",
       "NumberOfTime30-59DaysPastDueNotWorse        2\n",
       "DebtRatio                                   2\n",
       "MonthlyIncome.1                         29733\n",
       "NumberOfOpenCreditLinesAndLoans             2\n",
       "NumberOfTimes90DaysLate                     2\n",
       "NumberRealEstateLoansOrLines                2\n",
       "NumberOfTime60-89DaysPastDueNotWorse        2\n",
       "NumberOfDependents                       3924\n",
       "Good_Bad                                    2\n",
       "dtype: int64"
      ]
     },
     "execution_count": 12,
     "metadata": {},
     "output_type": "execute_result"
    }
   ],
   "source": [
    "df.isnull().sum()"
   ]
  },
  {
   "cell_type": "markdown",
   "metadata": {},
   "source": [
    "# Filling Null Values"
   ]
  },
  {
   "cell_type": "markdown",
   "metadata": {},
   "source": [
    "In DataSet, it's clearly seen that row_id_no. 150000 and 150001 of all variables have null values, so we are easily drop this Id's"
   ]
  },
  {
   "cell_type": "code",
   "execution_count": 13,
   "metadata": {},
   "outputs": [],
   "source": [
    "df=df.drop([150000,150001])"
   ]
  },
  {
   "cell_type": "code",
   "execution_count": 14,
   "metadata": {},
   "outputs": [
    {
     "data": {
      "text/html": [
       "<div>\n",
       "<style scoped>\n",
       "    .dataframe tbody tr th:only-of-type {\n",
       "        vertical-align: middle;\n",
       "    }\n",
       "\n",
       "    .dataframe tbody tr th {\n",
       "        vertical-align: top;\n",
       "    }\n",
       "\n",
       "    .dataframe thead th {\n",
       "        text-align: right;\n",
       "    }\n",
       "</style>\n",
       "<table border=\"1\" class=\"dataframe\">\n",
       "  <thead>\n",
       "    <tr style=\"text-align: right;\">\n",
       "      <th></th>\n",
       "      <th>NPA Status</th>\n",
       "      <th>RevolvingUtilizationOfUnsecuredLines</th>\n",
       "      <th>age</th>\n",
       "      <th>Gender</th>\n",
       "      <th>Region</th>\n",
       "      <th>MonthlyIncome</th>\n",
       "      <th>Rented_OwnHouse</th>\n",
       "      <th>Occupation</th>\n",
       "      <th>Education</th>\n",
       "      <th>NumberOfTime30-59DaysPastDueNotWorse</th>\n",
       "      <th>DebtRatio</th>\n",
       "      <th>MonthlyIncome.1</th>\n",
       "      <th>NumberOfOpenCreditLinesAndLoans</th>\n",
       "      <th>NumberOfTimes90DaysLate</th>\n",
       "      <th>NumberRealEstateLoansOrLines</th>\n",
       "      <th>NumberOfTime60-89DaysPastDueNotWorse</th>\n",
       "      <th>NumberOfDependents</th>\n",
       "      <th>Good_Bad</th>\n",
       "    </tr>\n",
       "  </thead>\n",
       "  <tbody>\n",
       "    <tr>\n",
       "      <th>149995</th>\n",
       "      <td>0.0</td>\n",
       "      <td>0.040674</td>\n",
       "      <td>74.0</td>\n",
       "      <td>Male</td>\n",
       "      <td>North</td>\n",
       "      <td>2100.0</td>\n",
       "      <td>Ownhouse</td>\n",
       "      <td>Non-officer</td>\n",
       "      <td>Professional</td>\n",
       "      <td>0.0</td>\n",
       "      <td>0.225131</td>\n",
       "      <td>2100.0</td>\n",
       "      <td>4.0</td>\n",
       "      <td>0.0</td>\n",
       "      <td>1.0</td>\n",
       "      <td>0.0</td>\n",
       "      <td>0</td>\n",
       "      <td>Good</td>\n",
       "    </tr>\n",
       "    <tr>\n",
       "      <th>149996</th>\n",
       "      <td>0.0</td>\n",
       "      <td>0.299745</td>\n",
       "      <td>44.0</td>\n",
       "      <td>Male</td>\n",
       "      <td>North</td>\n",
       "      <td>5584.0</td>\n",
       "      <td>Ownhouse</td>\n",
       "      <td>Self_Emp</td>\n",
       "      <td>Professional</td>\n",
       "      <td>0.0</td>\n",
       "      <td>0.716562</td>\n",
       "      <td>5584.0</td>\n",
       "      <td>4.0</td>\n",
       "      <td>0.0</td>\n",
       "      <td>1.0</td>\n",
       "      <td>0.0</td>\n",
       "      <td>2</td>\n",
       "      <td>Good</td>\n",
       "    </tr>\n",
       "    <tr>\n",
       "      <th>149997</th>\n",
       "      <td>0.0</td>\n",
       "      <td>0.246044</td>\n",
       "      <td>58.0</td>\n",
       "      <td>Male</td>\n",
       "      <td>North</td>\n",
       "      <td>NaN</td>\n",
       "      <td>Rented</td>\n",
       "      <td>Officer2</td>\n",
       "      <td>Professional</td>\n",
       "      <td>0.0</td>\n",
       "      <td>3870.000000</td>\n",
       "      <td>NaN</td>\n",
       "      <td>18.0</td>\n",
       "      <td>0.0</td>\n",
       "      <td>1.0</td>\n",
       "      <td>0.0</td>\n",
       "      <td>0</td>\n",
       "      <td>Good</td>\n",
       "    </tr>\n",
       "    <tr>\n",
       "      <th>149998</th>\n",
       "      <td>0.0</td>\n",
       "      <td>0.000000</td>\n",
       "      <td>30.0</td>\n",
       "      <td>Male</td>\n",
       "      <td>North</td>\n",
       "      <td>5716.0</td>\n",
       "      <td>Rented</td>\n",
       "      <td>Non-officer</td>\n",
       "      <td>Professional</td>\n",
       "      <td>0.0</td>\n",
       "      <td>0.000000</td>\n",
       "      <td>5716.0</td>\n",
       "      <td>4.0</td>\n",
       "      <td>0.0</td>\n",
       "      <td>0.0</td>\n",
       "      <td>0.0</td>\n",
       "      <td>0</td>\n",
       "      <td>Good</td>\n",
       "    </tr>\n",
       "    <tr>\n",
       "      <th>149999</th>\n",
       "      <td>0.0</td>\n",
       "      <td>0.850283</td>\n",
       "      <td>64.0</td>\n",
       "      <td>Male</td>\n",
       "      <td>North</td>\n",
       "      <td>8158.0</td>\n",
       "      <td>Ownhouse</td>\n",
       "      <td>Self_Emp</td>\n",
       "      <td>Professional</td>\n",
       "      <td>0.0</td>\n",
       "      <td>0.249908</td>\n",
       "      <td>8158.0</td>\n",
       "      <td>8.0</td>\n",
       "      <td>0.0</td>\n",
       "      <td>2.0</td>\n",
       "      <td>0.0</td>\n",
       "      <td>0</td>\n",
       "      <td>Good</td>\n",
       "    </tr>\n",
       "  </tbody>\n",
       "</table>\n",
       "</div>"
      ],
      "text/plain": [
       "        NPA Status  RevolvingUtilizationOfUnsecuredLines   age Gender Region  \\\n",
       "149995         0.0                              0.040674  74.0   Male  North   \n",
       "149996         0.0                              0.299745  44.0   Male  North   \n",
       "149997         0.0                              0.246044  58.0   Male  North   \n",
       "149998         0.0                              0.000000  30.0   Male  North   \n",
       "149999         0.0                              0.850283  64.0   Male  North   \n",
       "\n",
       "        MonthlyIncome Rented_OwnHouse   Occupation     Education  \\\n",
       "149995         2100.0        Ownhouse  Non-officer  Professional   \n",
       "149996         5584.0        Ownhouse     Self_Emp  Professional   \n",
       "149997            NaN          Rented     Officer2  Professional   \n",
       "149998         5716.0          Rented  Non-officer  Professional   \n",
       "149999         8158.0        Ownhouse     Self_Emp  Professional   \n",
       "\n",
       "        NumberOfTime30-59DaysPastDueNotWorse    DebtRatio  MonthlyIncome.1  \\\n",
       "149995                                   0.0     0.225131           2100.0   \n",
       "149996                                   0.0     0.716562           5584.0   \n",
       "149997                                   0.0  3870.000000              NaN   \n",
       "149998                                   0.0     0.000000           5716.0   \n",
       "149999                                   0.0     0.249908           8158.0   \n",
       "\n",
       "        NumberOfOpenCreditLinesAndLoans  NumberOfTimes90DaysLate  \\\n",
       "149995                              4.0                      0.0   \n",
       "149996                              4.0                      0.0   \n",
       "149997                             18.0                      0.0   \n",
       "149998                              4.0                      0.0   \n",
       "149999                              8.0                      0.0   \n",
       "\n",
       "        NumberRealEstateLoansOrLines  NumberOfTime60-89DaysPastDueNotWorse  \\\n",
       "149995                           1.0                                   0.0   \n",
       "149996                           1.0                                   0.0   \n",
       "149997                           1.0                                   0.0   \n",
       "149998                           0.0                                   0.0   \n",
       "149999                           2.0                                   0.0   \n",
       "\n",
       "       NumberOfDependents Good_Bad  \n",
       "149995                  0     Good  \n",
       "149996                  2     Good  \n",
       "149997                  0     Good  \n",
       "149998                  0     Good  \n",
       "149999                  0     Good  "
      ]
     },
     "execution_count": 14,
     "metadata": {},
     "output_type": "execute_result"
    }
   ],
   "source": [
    "df.tail()"
   ]
  },
  {
   "cell_type": "markdown",
   "metadata": {},
   "source": [
    "After getting \"Mean\", Median\",\"Standard Deviation\", which value will greater,we will fill with that value in numerical variables, but in categorical variables we will fill with \"Mode\"."
   ]
  },
  {
   "cell_type": "code",
   "execution_count": 15,
   "metadata": {},
   "outputs": [
    {
     "name": "stdout",
     "output_type": "stream",
     "text": [
      "mean of MonthlyIncome: 6670.221237392844\n",
      "median of MonthlyIncome: 5400.0\n",
      "std of MonthlyIncome: 14384.67421528196\n"
     ]
    }
   ],
   "source": [
    "print(\"mean of MonthlyIncome:\", df[\"MonthlyIncome\"].mean())\n",
    "print(\"median of MonthlyIncome:\", df[\"MonthlyIncome\"].median())\n",
    "print(\"std of MonthlyIncome:\", df[\"MonthlyIncome\"].std())\n",
    "df[\"MonthlyIncome\"]=df[\"MonthlyIncome\"].fillna(df[\"MonthlyIncome\"].std())"
   ]
  },
  {
   "cell_type": "markdown",
   "metadata": {},
   "source": [
    "In \"NumberOfDependents\", there is int and float values both, convert to all values in float."
   ]
  },
  {
   "cell_type": "code",
   "execution_count": 16,
   "metadata": {},
   "outputs": [
    {
     "data": {
      "text/plain": [
       "0         2.1\n",
       "1         1.1\n",
       "2         0.1\n",
       "3         0.1\n",
       "4         0.1\n",
       "         ... \n",
       "149995    0.0\n",
       "149996    2.0\n",
       "149997    0.0\n",
       "149998    0.0\n",
       "149999    0.0\n",
       "Name: NumberOfDependents, Length: 150000, dtype: float64"
      ]
     },
     "execution_count": 16,
     "metadata": {},
     "output_type": "execute_result"
    }
   ],
   "source": [
    "df[\"NumberOfDependents\"]=df[\"NumberOfDependents\"].replace(to_replace={0:0.1, 1:1.1, 2:2.1, 3:3.1, 4:4.1,5:5.1, 6:6.1, 7:7.1,\n",
    "                                                                      8:8.1, 9:9.1})\n",
    "df[\"NumberOfDependents\"]"
   ]
  },
  {
   "cell_type": "markdown",
   "metadata": {},
   "source": [
    "Fill null value in \"NumberOfDependents\" with the most repeated value."
   ]
  },
  {
   "cell_type": "code",
   "execution_count": 17,
   "metadata": {},
   "outputs": [],
   "source": [
    "df[\"NumberOfDependents\"]=df[\"NumberOfDependents\"].fillna(0.1)"
   ]
  },
  {
   "cell_type": "code",
   "execution_count": 18,
   "metadata": {},
   "outputs": [
    {
     "data": {
      "text/plain": [
       "0.1     79874\n",
       "1.1     23027\n",
       "2.1     17082\n",
       "0.0     10952\n",
       "3.1      8255\n",
       "1.0      3289\n",
       "4.1      2497\n",
       "2.0      2440\n",
       "3.0      1228\n",
       "5.1       636\n",
       "4.0       365\n",
       "6.1       133\n",
       "5.0       110\n",
       "7.1        45\n",
       "6.0        25\n",
       "8.1        20\n",
       "7.0         6\n",
       "10.0        5\n",
       "8.0         4\n",
       "9.1         3\n",
       "9.0         2\n",
       "20.0        1\n",
       "13.0        1\n",
       "Name: NumberOfDependents, dtype: int64"
      ]
     },
     "execution_count": 18,
     "metadata": {},
     "output_type": "execute_result"
    }
   ],
   "source": [
    "df[\"NumberOfDependents\"].value_counts()"
   ]
  },
  {
   "cell_type": "markdown",
   "metadata": {},
   "source": [
    "\"Good\" and \"Bad\" are categorical, will change into dummies, \"Good\" as 0 & \"Bad\" as 1. "
   ]
  },
  {
   "cell_type": "code",
   "execution_count": 19,
   "metadata": {},
   "outputs": [],
   "source": [
    "df[\"Good_Bad\"].value_counts()\n",
    "df[\"Good_Bad\"] = pd.get_dummies(df[\"Good_Bad\"])\n"
   ]
  },
  {
   "cell_type": "markdown",
   "metadata": {},
   "source": [
    "# Duplicates values\n",
    "\"MonthlyIncome\" same as \"MonthlyIncome.1\" and \"NumberOfTime60-89DaysPastDueNotWorse\" same as \"NumberOfTimes90DaysLate\". So we are \n",
    "droping 'MonthlyIncome.1', \"NumberOfTime60-89DaysPastDueNotWorse\"."
   ]
  },
  {
   "cell_type": "code",
   "execution_count": 20,
   "metadata": {},
   "outputs": [],
   "source": [
    "df.drop(['MonthlyIncome.1'],axis=1,inplace=True)"
   ]
  },
  {
   "cell_type": "code",
   "execution_count": 21,
   "metadata": {},
   "outputs": [],
   "source": [
    "df=df.drop([\"NumberOfTime60-89DaysPastDueNotWorse\"],axis=1)"
   ]
  },
  {
   "cell_type": "code",
   "execution_count": 22,
   "metadata": {},
   "outputs": [],
   "source": [
    "df=df.drop([\"NumberOfTime30-59DaysPastDueNotWorse\"],axis=1)"
   ]
  },
  {
   "cell_type": "markdown",
   "metadata": {},
   "source": [
    "Now \"Age\" columns have continuous values, so we try to convert it into some categories."
   ]
  },
  {
   "cell_type": "code",
   "execution_count": 23,
   "metadata": {},
   "outputs": [
    {
     "data": {
      "text/html": [
       "<div>\n",
       "<style scoped>\n",
       "    .dataframe tbody tr th:only-of-type {\n",
       "        vertical-align: middle;\n",
       "    }\n",
       "\n",
       "    .dataframe tbody tr th {\n",
       "        vertical-align: top;\n",
       "    }\n",
       "\n",
       "    .dataframe thead th {\n",
       "        text-align: right;\n",
       "    }\n",
       "</style>\n",
       "<table border=\"1\" class=\"dataframe\">\n",
       "  <thead>\n",
       "    <tr style=\"text-align: right;\">\n",
       "      <th></th>\n",
       "      <th>NPA Status</th>\n",
       "      <th>RevolvingUtilizationOfUnsecuredLines</th>\n",
       "      <th>age</th>\n",
       "      <th>Gender</th>\n",
       "      <th>Region</th>\n",
       "      <th>MonthlyIncome</th>\n",
       "      <th>Rented_OwnHouse</th>\n",
       "      <th>Occupation</th>\n",
       "      <th>Education</th>\n",
       "      <th>DebtRatio</th>\n",
       "      <th>NumberOfOpenCreditLinesAndLoans</th>\n",
       "      <th>NumberOfTimes90DaysLate</th>\n",
       "      <th>NumberRealEstateLoansOrLines</th>\n",
       "      <th>NumberOfDependents</th>\n",
       "      <th>Good_Bad</th>\n",
       "    </tr>\n",
       "  </thead>\n",
       "  <tbody>\n",
       "    <tr>\n",
       "      <th>0</th>\n",
       "      <td>1.0</td>\n",
       "      <td>0.766127</td>\n",
       "      <td>Middle_Adult</td>\n",
       "      <td>Male</td>\n",
       "      <td>South</td>\n",
       "      <td>9120.0</td>\n",
       "      <td>Ownhouse</td>\n",
       "      <td>Self_Emp</td>\n",
       "      <td>Matric</td>\n",
       "      <td>0.802982</td>\n",
       "      <td>13.0</td>\n",
       "      <td>0.0</td>\n",
       "      <td>6.0</td>\n",
       "      <td>2.1</td>\n",
       "      <td>1</td>\n",
       "    </tr>\n",
       "    <tr>\n",
       "      <th>1</th>\n",
       "      <td>0.0</td>\n",
       "      <td>0.957151</td>\n",
       "      <td>Middle_Adult</td>\n",
       "      <td>Female</td>\n",
       "      <td>South</td>\n",
       "      <td>2600.0</td>\n",
       "      <td>Ownhouse</td>\n",
       "      <td>Self_Emp</td>\n",
       "      <td>Graduate</td>\n",
       "      <td>0.121876</td>\n",
       "      <td>4.0</td>\n",
       "      <td>0.0</td>\n",
       "      <td>0.0</td>\n",
       "      <td>1.1</td>\n",
       "      <td>0</td>\n",
       "    </tr>\n",
       "    <tr>\n",
       "      <th>2</th>\n",
       "      <td>0.0</td>\n",
       "      <td>0.658180</td>\n",
       "      <td>Middle_Adult</td>\n",
       "      <td>Female</td>\n",
       "      <td>South</td>\n",
       "      <td>3042.0</td>\n",
       "      <td>Ownhouse</td>\n",
       "      <td>Self_Emp</td>\n",
       "      <td>PhD</td>\n",
       "      <td>0.085113</td>\n",
       "      <td>2.0</td>\n",
       "      <td>1.0</td>\n",
       "      <td>0.0</td>\n",
       "      <td>0.1</td>\n",
       "      <td>0</td>\n",
       "    </tr>\n",
       "    <tr>\n",
       "      <th>3</th>\n",
       "      <td>0.0</td>\n",
       "      <td>0.233810</td>\n",
       "      <td>Middle_Adult</td>\n",
       "      <td>Female</td>\n",
       "      <td>South</td>\n",
       "      <td>3300.0</td>\n",
       "      <td>Ownhouse</td>\n",
       "      <td>Self_Emp</td>\n",
       "      <td>Professional</td>\n",
       "      <td>0.036050</td>\n",
       "      <td>5.0</td>\n",
       "      <td>0.0</td>\n",
       "      <td>0.0</td>\n",
       "      <td>0.1</td>\n",
       "      <td>0</td>\n",
       "    </tr>\n",
       "    <tr>\n",
       "      <th>4</th>\n",
       "      <td>0.0</td>\n",
       "      <td>0.907239</td>\n",
       "      <td>Middle_Adult</td>\n",
       "      <td>Male</td>\n",
       "      <td>South</td>\n",
       "      <td>63588.0</td>\n",
       "      <td>Ownhouse</td>\n",
       "      <td>Self_Emp</td>\n",
       "      <td>Post-Grad</td>\n",
       "      <td>0.024926</td>\n",
       "      <td>7.0</td>\n",
       "      <td>0.0</td>\n",
       "      <td>1.0</td>\n",
       "      <td>0.1</td>\n",
       "      <td>0</td>\n",
       "    </tr>\n",
       "  </tbody>\n",
       "</table>\n",
       "</div>"
      ],
      "text/plain": [
       "   NPA Status  RevolvingUtilizationOfUnsecuredLines           age  Gender  \\\n",
       "0         1.0                              0.766127  Middle_Adult    Male   \n",
       "1         0.0                              0.957151  Middle_Adult  Female   \n",
       "2         0.0                              0.658180  Middle_Adult  Female   \n",
       "3         0.0                              0.233810  Middle_Adult  Female   \n",
       "4         0.0                              0.907239  Middle_Adult    Male   \n",
       "\n",
       "  Region  MonthlyIncome Rented_OwnHouse Occupation     Education  DebtRatio  \\\n",
       "0  South         9120.0        Ownhouse   Self_Emp        Matric   0.802982   \n",
       "1  South         2600.0        Ownhouse   Self_Emp      Graduate   0.121876   \n",
       "2  South         3042.0        Ownhouse   Self_Emp           PhD   0.085113   \n",
       "3  South         3300.0        Ownhouse   Self_Emp  Professional   0.036050   \n",
       "4  South        63588.0        Ownhouse   Self_Emp     Post-Grad   0.024926   \n",
       "\n",
       "   NumberOfOpenCreditLinesAndLoans  NumberOfTimes90DaysLate  \\\n",
       "0                             13.0                      0.0   \n",
       "1                              4.0                      0.0   \n",
       "2                              2.0                      1.0   \n",
       "3                              5.0                      0.0   \n",
       "4                              7.0                      0.0   \n",
       "\n",
       "   NumberRealEstateLoansOrLines  NumberOfDependents  Good_Bad  \n",
       "0                           6.0                 2.1         1  \n",
       "1                           0.0                 1.1         0  \n",
       "2                           0.0                 0.1         0  \n",
       "3                           0.0                 0.1         0  \n",
       "4                           1.0                 0.1         0  "
      ]
     },
     "execution_count": 23,
     "metadata": {},
     "output_type": "execute_result"
    }
   ],
   "source": [
    "bins=[0,10,18,30,60,120]\n",
    "labels=['Kid','Young','Early_Adult','Middle_Adult','Late_Adult']\n",
    "df['age']=pd.cut(df['age'],bins=bins,labels=labels,right=False)\n",
    "df['age']=df['age'].astype(object)\n",
    "df.head()"
   ]
  },
  {
   "cell_type": "code",
   "execution_count": 24,
   "metadata": {},
   "outputs": [
    {
     "data": {
      "text/html": [
       "<div>\n",
       "<style scoped>\n",
       "    .dataframe tbody tr th:only-of-type {\n",
       "        vertical-align: middle;\n",
       "    }\n",
       "\n",
       "    .dataframe tbody tr th {\n",
       "        vertical-align: top;\n",
       "    }\n",
       "\n",
       "    .dataframe thead th {\n",
       "        text-align: right;\n",
       "    }\n",
       "</style>\n",
       "<table border=\"1\" class=\"dataframe\">\n",
       "  <thead>\n",
       "    <tr style=\"text-align: right;\">\n",
       "      <th></th>\n",
       "      <th>NPA Status</th>\n",
       "      <th>RevolvingUtilizationOfUnsecuredLines</th>\n",
       "      <th>age</th>\n",
       "      <th>Gender</th>\n",
       "      <th>Region</th>\n",
       "      <th>MonthlyIncome</th>\n",
       "      <th>Rented_OwnHouse</th>\n",
       "      <th>Occupation</th>\n",
       "      <th>Education</th>\n",
       "      <th>DebtRatio</th>\n",
       "      <th>NumberOfOpenCreditLinesAndLoans</th>\n",
       "      <th>NumberOfTimes90DaysLate</th>\n",
       "      <th>NumberRealEstateLoansOrLines</th>\n",
       "      <th>NumberOfDependents</th>\n",
       "      <th>Good_Bad</th>\n",
       "    </tr>\n",
       "  </thead>\n",
       "  <tbody>\n",
       "    <tr>\n",
       "      <th>0</th>\n",
       "      <td>1.0</td>\n",
       "      <td>0.766127</td>\n",
       "      <td>Middle_Adult</td>\n",
       "      <td>Male</td>\n",
       "      <td>South</td>\n",
       "      <td>9120.0</td>\n",
       "      <td>Ownhouse</td>\n",
       "      <td>Self_Emp</td>\n",
       "      <td>Matric</td>\n",
       "      <td>0.802982</td>\n",
       "      <td>13.0</td>\n",
       "      <td>0.0</td>\n",
       "      <td>6.0</td>\n",
       "      <td>2.1</td>\n",
       "      <td>1</td>\n",
       "    </tr>\n",
       "    <tr>\n",
       "      <th>1</th>\n",
       "      <td>0.0</td>\n",
       "      <td>0.957151</td>\n",
       "      <td>Middle_Adult</td>\n",
       "      <td>Female</td>\n",
       "      <td>South</td>\n",
       "      <td>2600.0</td>\n",
       "      <td>Ownhouse</td>\n",
       "      <td>Self_Emp</td>\n",
       "      <td>Graduate</td>\n",
       "      <td>0.121876</td>\n",
       "      <td>4.0</td>\n",
       "      <td>0.0</td>\n",
       "      <td>0.0</td>\n",
       "      <td>1.1</td>\n",
       "      <td>0</td>\n",
       "    </tr>\n",
       "    <tr>\n",
       "      <th>2</th>\n",
       "      <td>0.0</td>\n",
       "      <td>0.658180</td>\n",
       "      <td>Middle_Adult</td>\n",
       "      <td>Female</td>\n",
       "      <td>South</td>\n",
       "      <td>3042.0</td>\n",
       "      <td>Ownhouse</td>\n",
       "      <td>Self_Emp</td>\n",
       "      <td>PhD</td>\n",
       "      <td>0.085113</td>\n",
       "      <td>2.0</td>\n",
       "      <td>1.0</td>\n",
       "      <td>0.0</td>\n",
       "      <td>0.1</td>\n",
       "      <td>0</td>\n",
       "    </tr>\n",
       "    <tr>\n",
       "      <th>3</th>\n",
       "      <td>0.0</td>\n",
       "      <td>0.233810</td>\n",
       "      <td>Middle_Adult</td>\n",
       "      <td>Female</td>\n",
       "      <td>South</td>\n",
       "      <td>3300.0</td>\n",
       "      <td>Ownhouse</td>\n",
       "      <td>Self_Emp</td>\n",
       "      <td>Professional</td>\n",
       "      <td>0.036050</td>\n",
       "      <td>5.0</td>\n",
       "      <td>0.0</td>\n",
       "      <td>0.0</td>\n",
       "      <td>0.1</td>\n",
       "      <td>0</td>\n",
       "    </tr>\n",
       "    <tr>\n",
       "      <th>4</th>\n",
       "      <td>0.0</td>\n",
       "      <td>0.907239</td>\n",
       "      <td>Middle_Adult</td>\n",
       "      <td>Male</td>\n",
       "      <td>South</td>\n",
       "      <td>63588.0</td>\n",
       "      <td>Ownhouse</td>\n",
       "      <td>Self_Emp</td>\n",
       "      <td>Post-Grad</td>\n",
       "      <td>0.024926</td>\n",
       "      <td>7.0</td>\n",
       "      <td>0.0</td>\n",
       "      <td>1.0</td>\n",
       "      <td>0.1</td>\n",
       "      <td>0</td>\n",
       "    </tr>\n",
       "  </tbody>\n",
       "</table>\n",
       "</div>"
      ],
      "text/plain": [
       "   NPA Status  RevolvingUtilizationOfUnsecuredLines           age  Gender  \\\n",
       "0         1.0                              0.766127  Middle_Adult    Male   \n",
       "1         0.0                              0.957151  Middle_Adult  Female   \n",
       "2         0.0                              0.658180  Middle_Adult  Female   \n",
       "3         0.0                              0.233810  Middle_Adult  Female   \n",
       "4         0.0                              0.907239  Middle_Adult    Male   \n",
       "\n",
       "  Region  MonthlyIncome Rented_OwnHouse Occupation     Education  DebtRatio  \\\n",
       "0  South         9120.0        Ownhouse   Self_Emp        Matric   0.802982   \n",
       "1  South         2600.0        Ownhouse   Self_Emp      Graduate   0.121876   \n",
       "2  South         3042.0        Ownhouse   Self_Emp           PhD   0.085113   \n",
       "3  South         3300.0        Ownhouse   Self_Emp  Professional   0.036050   \n",
       "4  South        63588.0        Ownhouse   Self_Emp     Post-Grad   0.024926   \n",
       "\n",
       "   NumberOfOpenCreditLinesAndLoans  NumberOfTimes90DaysLate  \\\n",
       "0                             13.0                      0.0   \n",
       "1                              4.0                      0.0   \n",
       "2                              2.0                      1.0   \n",
       "3                              5.0                      0.0   \n",
       "4                              7.0                      0.0   \n",
       "\n",
       "   NumberRealEstateLoansOrLines  NumberOfDependents  Good_Bad  \n",
       "0                           6.0                 2.1         1  \n",
       "1                           0.0                 1.1         0  \n",
       "2                           0.0                 0.1         0  \n",
       "3                           0.0                 0.1         0  \n",
       "4                           1.0                 0.1         0  "
      ]
     },
     "execution_count": 24,
     "metadata": {},
     "output_type": "execute_result"
    }
   ],
   "source": [
    "df.head()"
   ]
  },
  {
   "cell_type": "markdown",
   "metadata": {},
   "source": [
    "# Checking Skewness of Data"
   ]
  },
  {
   "cell_type": "code",
   "execution_count": 25,
   "metadata": {},
   "outputs": [
    {
     "data": {
      "text/html": [
       "<div>\n",
       "<style scoped>\n",
       "    .dataframe tbody tr th:only-of-type {\n",
       "        vertical-align: middle;\n",
       "    }\n",
       "\n",
       "    .dataframe tbody tr th {\n",
       "        vertical-align: top;\n",
       "    }\n",
       "\n",
       "    .dataframe thead th {\n",
       "        text-align: right;\n",
       "    }\n",
       "</style>\n",
       "<table border=\"1\" class=\"dataframe\">\n",
       "  <thead>\n",
       "    <tr style=\"text-align: right;\">\n",
       "      <th></th>\n",
       "      <th>NPA Status</th>\n",
       "      <th>RevolvingUtilizationOfUnsecuredLines</th>\n",
       "      <th>MonthlyIncome</th>\n",
       "      <th>DebtRatio</th>\n",
       "      <th>NumberOfOpenCreditLinesAndLoans</th>\n",
       "      <th>NumberOfTimes90DaysLate</th>\n",
       "      <th>NumberRealEstateLoansOrLines</th>\n",
       "      <th>NumberOfDependents</th>\n",
       "      <th>Good_Bad</th>\n",
       "    </tr>\n",
       "  </thead>\n",
       "  <tbody>\n",
       "    <tr>\n",
       "      <th>0</th>\n",
       "      <td>1.0</td>\n",
       "      <td>0.766127</td>\n",
       "      <td>9120.0</td>\n",
       "      <td>0.802982</td>\n",
       "      <td>13.0</td>\n",
       "      <td>0.0</td>\n",
       "      <td>6.0</td>\n",
       "      <td>2.1</td>\n",
       "      <td>1</td>\n",
       "    </tr>\n",
       "    <tr>\n",
       "      <th>1</th>\n",
       "      <td>0.0</td>\n",
       "      <td>0.957151</td>\n",
       "      <td>2600.0</td>\n",
       "      <td>0.121876</td>\n",
       "      <td>4.0</td>\n",
       "      <td>0.0</td>\n",
       "      <td>0.0</td>\n",
       "      <td>1.1</td>\n",
       "      <td>0</td>\n",
       "    </tr>\n",
       "    <tr>\n",
       "      <th>2</th>\n",
       "      <td>0.0</td>\n",
       "      <td>0.658180</td>\n",
       "      <td>3042.0</td>\n",
       "      <td>0.085113</td>\n",
       "      <td>2.0</td>\n",
       "      <td>1.0</td>\n",
       "      <td>0.0</td>\n",
       "      <td>0.1</td>\n",
       "      <td>0</td>\n",
       "    </tr>\n",
       "    <tr>\n",
       "      <th>3</th>\n",
       "      <td>0.0</td>\n",
       "      <td>0.233810</td>\n",
       "      <td>3300.0</td>\n",
       "      <td>0.036050</td>\n",
       "      <td>5.0</td>\n",
       "      <td>0.0</td>\n",
       "      <td>0.0</td>\n",
       "      <td>0.1</td>\n",
       "      <td>0</td>\n",
       "    </tr>\n",
       "    <tr>\n",
       "      <th>4</th>\n",
       "      <td>0.0</td>\n",
       "      <td>0.907239</td>\n",
       "      <td>63588.0</td>\n",
       "      <td>0.024926</td>\n",
       "      <td>7.0</td>\n",
       "      <td>0.0</td>\n",
       "      <td>1.0</td>\n",
       "      <td>0.1</td>\n",
       "      <td>0</td>\n",
       "    </tr>\n",
       "  </tbody>\n",
       "</table>\n",
       "</div>"
      ],
      "text/plain": [
       "   NPA Status  RevolvingUtilizationOfUnsecuredLines  MonthlyIncome  DebtRatio  \\\n",
       "0         1.0                              0.766127         9120.0   0.802982   \n",
       "1         0.0                              0.957151         2600.0   0.121876   \n",
       "2         0.0                              0.658180         3042.0   0.085113   \n",
       "3         0.0                              0.233810         3300.0   0.036050   \n",
       "4         0.0                              0.907239        63588.0   0.024926   \n",
       "\n",
       "   NumberOfOpenCreditLinesAndLoans  NumberOfTimes90DaysLate  \\\n",
       "0                             13.0                      0.0   \n",
       "1                              4.0                      0.0   \n",
       "2                              2.0                      1.0   \n",
       "3                              5.0                      0.0   \n",
       "4                              7.0                      0.0   \n",
       "\n",
       "   NumberRealEstateLoansOrLines  NumberOfDependents  Good_Bad  \n",
       "0                           6.0                 2.1         1  \n",
       "1                           0.0                 1.1         0  \n",
       "2                           0.0                 0.1         0  \n",
       "3                           0.0                 0.1         0  \n",
       "4                           1.0                 0.1         0  "
      ]
     },
     "execution_count": 25,
     "metadata": {},
     "output_type": "execute_result"
    }
   ],
   "source": [
    "num_data=df.select_dtypes(exclude=object)\n",
    "num_data.head()"
   ]
  },
  {
   "cell_type": "code",
   "execution_count": 26,
   "metadata": {},
   "outputs": [
    {
     "data": {
      "text/html": [
       "<div>\n",
       "<style scoped>\n",
       "    .dataframe tbody tr th:only-of-type {\n",
       "        vertical-align: middle;\n",
       "    }\n",
       "\n",
       "    .dataframe tbody tr th {\n",
       "        vertical-align: top;\n",
       "    }\n",
       "\n",
       "    .dataframe thead th {\n",
       "        text-align: right;\n",
       "    }\n",
       "</style>\n",
       "<table border=\"1\" class=\"dataframe\">\n",
       "  <thead>\n",
       "    <tr style=\"text-align: right;\">\n",
       "      <th></th>\n",
       "      <th>labels</th>\n",
       "      <th>skew</th>\n",
       "    </tr>\n",
       "  </thead>\n",
       "  <tbody>\n",
       "    <tr>\n",
       "      <th>0</th>\n",
       "      <td>NPA Status</td>\n",
       "      <td>3.468857</td>\n",
       "    </tr>\n",
       "    <tr>\n",
       "      <th>1</th>\n",
       "      <td>RevolvingUtilizationOfUnsecuredLines</td>\n",
       "      <td>97.631574</td>\n",
       "    </tr>\n",
       "    <tr>\n",
       "      <th>2</th>\n",
       "      <td>MonthlyIncome</td>\n",
       "      <td>116.886226</td>\n",
       "    </tr>\n",
       "    <tr>\n",
       "      <th>3</th>\n",
       "      <td>DebtRatio</td>\n",
       "      <td>95.157793</td>\n",
       "    </tr>\n",
       "    <tr>\n",
       "      <th>4</th>\n",
       "      <td>NumberOfOpenCreditLinesAndLoans</td>\n",
       "      <td>1.215314</td>\n",
       "    </tr>\n",
       "    <tr>\n",
       "      <th>5</th>\n",
       "      <td>NumberRealEstateLoansOrLines</td>\n",
       "      <td>3.482484</td>\n",
       "    </tr>\n",
       "    <tr>\n",
       "      <th>6</th>\n",
       "      <td>NumberOfTimes90DaysLate</td>\n",
       "      <td>23.087345</td>\n",
       "    </tr>\n",
       "    <tr>\n",
       "      <th>7</th>\n",
       "      <td>NumberOfDependents</td>\n",
       "      <td>1.622733</td>\n",
       "    </tr>\n",
       "  </tbody>\n",
       "</table>\n",
       "</div>"
      ],
      "text/plain": [
       "                                 labels        skew\n",
       "0                            NPA Status    3.468857\n",
       "1  RevolvingUtilizationOfUnsecuredLines   97.631574\n",
       "2                         MonthlyIncome  116.886226\n",
       "3                             DebtRatio   95.157793\n",
       "4       NumberOfOpenCreditLinesAndLoans    1.215314\n",
       "5          NumberRealEstateLoansOrLines    3.482484\n",
       "6               NumberOfTimes90DaysLate   23.087345\n",
       "7                    NumberOfDependents    1.622733"
      ]
     },
     "execution_count": 26,
     "metadata": {},
     "output_type": "execute_result"
    }
   ],
   "source": [
    "\n",
    "labels=['NPA Status','RevolvingUtilizationOfUnsecuredLines','MonthlyIncome','DebtRatio',\n",
    "        'NumberOfOpenCreditLinesAndLoans','NumberRealEstateLoansOrLines','NumberOfTimes90DaysLate','NumberOfDependents']\n",
    "sk=[]\n",
    "for i in labels:\n",
    "    sk.append(df[i].skew())\n",
    "    \n",
    "pd.DataFrame({\"labels\":labels,\"skew\":sk})\n"
   ]
  },
  {
   "cell_type": "markdown",
   "metadata": {},
   "source": [
    "Check the relationship between numerical variables with the target variable."
   ]
  },
  {
   "cell_type": "code",
   "execution_count": 27,
   "metadata": {},
   "outputs": [
    {
     "data": {
      "text/plain": [
       "<AxesSubplot:>"
      ]
     },
     "execution_count": 27,
     "metadata": {},
     "output_type": "execute_result"
    },
    {
     "data": {
      "image/png": "[encoded data removed]",
      "text/plain": [
       "<Figure size 720x720 with 2 Axes>"
      ]
     },
     "metadata": {
      "needs_background": "light"
     },
     "output_type": "display_data"
    }
   ],
   "source": [
    "corr = num_data.corr()\n",
    "\n",
    "top_features = corr.index\n",
    "plt.figure(figsize=(10,10))\n",
    "sns.heatmap(num_data[top_features].corr(),annot=True)"
   ]
  },
  {
   "cell_type": "code",
   "execution_count": 28,
   "metadata": {
    "scrolled": false
   },
   "outputs": [
    {
     "name": "stdout",
     "output_type": "stream",
     "text": [
      "NPA Status\n",
      "3.4688223830320744\n"
     ]
    },
    {
     "data": {
      "image/png": "[encoded data removed]",
      "text/plain": [
       "<Figure size 432x288 with 1 Axes>"
      ]
     },
     "metadata": {
      "needs_background": "light"
     },
     "output_type": "display_data"
    },
    {
     "name": "stdout",
     "output_type": "stream",
     "text": [
      "RevolvingUtilizationOfUnsecuredLines\n",
      "97.63059816732675\n"
     ]
    },
    {
     "data": {
      "image/png": "[encoded data removed]",
      "text/plain": [
       "<Figure size 432x288 with 1 Axes>"
      ]
     },
     "metadata": {
      "needs_background": "light"
     },
     "output_type": "display_data"
    },
    {
     "name": "stdout",
     "output_type": "stream",
     "text": [
      "MonthlyIncome\n",
      "116.88505734710233\n"
     ]
    },
    {
     "data": {
      "image/png": "[encoded data removed]",
      "text/plain": [
       "<Figure size 432x288 with 1 Axes>"
      ]
     },
     "metadata": {
      "needs_background": "light"
     },
     "output_type": "display_data"
    },
    {
     "name": "stdout",
     "output_type": "stream",
     "text": [
      "DebtRatio\n",
      "95.1568412848665\n"
     ]
    },
    {
     "data": {
      "image/png": "[encoded data removed]",
      "text/plain": [
       "<Figure size 432x288 with 1 Axes>"
      ]
     },
     "metadata": {
      "needs_background": "light"
     },
     "output_type": "display_data"
    },
    {
     "name": "stdout",
     "output_type": "stream",
     "text": [
      "NumberOfOpenCreditLinesAndLoans\n",
      "1.215301627033253\n"
     ]
    },
    {
     "data": {
      "image/png": "[encoded data removed]",
      "text/plain": [
       "<Figure size 432x288 with 1 Axes>"
      ]
     },
     "metadata": {
      "needs_background": "light"
     },
     "output_type": "display_data"
    },
    {
     "name": "stdout",
     "output_type": "stream",
     "text": [
      "NumberOfTimes90DaysLate\n",
      "23.087114597836827\n"
     ]
    },
    {
     "data": {
      "image/png": "[encoded data removed]",
      "text/plain": [
       "<Figure size 432x288 with 1 Axes>"
      ]
     },
     "metadata": {
      "needs_background": "light"
     },
     "output_type": "display_data"
    },
    {
     "name": "stdout",
     "output_type": "stream",
     "text": [
      "NumberRealEstateLoansOrLines\n",
      "3.482449168580264\n"
     ]
    },
    {
     "data": {
      "image/png": "[encoded data removed]",
      "text/plain": [
       "<Figure size 432x288 with 1 Axes>"
      ]
     },
     "metadata": {
      "needs_background": "light"
     },
     "output_type": "display_data"
    },
    {
     "name": "stdout",
     "output_type": "stream",
     "text": [
      "NumberOfDependents\n",
      "1.6227166400752109\n"
     ]
    },
    {
     "data": {
      "image/png": "[encoded data removed]",
      "text/plain": [
       "<Figure size 432x288 with 1 Axes>"
      ]
     },
     "metadata": {
      "needs_background": "light"
     },
     "output_type": "display_data"
    },
    {
     "name": "stdout",
     "output_type": "stream",
     "text": [
      "Good_Bad\n",
      "3.4688223830320744\n"
     ]
    },
    {
     "data": {
      "image/png": "[encoded data removed]",
      "text/plain": [
       "<Figure size 432x288 with 1 Axes>"
      ]
     },
     "metadata": {
      "needs_background": "light"
     },
     "output_type": "display_data"
    }
   ],
   "source": [
    "for col in num_data:\n",
    "    print(col)\n",
    "    print(skew(num_data[col]))\n",
    "    \n",
    "    plt.figure()\n",
    "    sns.distplot(num_data[col])\n",
    "    plt.show()"
   ]
  },
  {
   "cell_type": "markdown",
   "metadata": {},
   "source": [
    "All the numerical columns have skewness and their correlation with target variable\n",
    "is also not good. So we can applying  square root transformation to solve skewness of data."
   ]
  },
  {
   "cell_type": "code",
   "execution_count": 29,
   "metadata": {},
   "outputs": [],
   "source": [
    "num_data['RevolvingUtilizationOfUnsecuredLines']=np.sqrt(np.sqrt(num_data['RevolvingUtilizationOfUnsecuredLines'])**0.6)\n",
    "num_data['MonthlyIncome']=np.sqrt(num_data['MonthlyIncome'])**0.6\n",
    "num_data['NumberRealEstateLoansOrLines']=np.sqrt(num_data['NumberRealEstateLoansOrLines'])\n",
    "num_data['DebtRatio']=np.sqrt(num_data['DebtRatio'])**0.13\n",
    "num_data['NumberOfOpenCreditLinesAndLoans']=np.sqrt(num_data['NumberOfOpenCreditLinesAndLoans'])\n",
    "num_data['NumberOfDependents']=np.sqrt(num_data['NumberOfDependents'])**0.01"
   ]
  },
  {
   "cell_type": "code",
   "execution_count": 30,
   "metadata": {},
   "outputs": [
    {
     "data": {
      "text/html": [
       "<div>\n",
       "<style scoped>\n",
       "    .dataframe tbody tr th:only-of-type {\n",
       "        vertical-align: middle;\n",
       "    }\n",
       "\n",
       "    .dataframe tbody tr th {\n",
       "        vertical-align: top;\n",
       "    }\n",
       "\n",
       "    .dataframe thead th {\n",
       "        text-align: right;\n",
       "    }\n",
       "</style>\n",
       "<table border=\"1\" class=\"dataframe\">\n",
       "  <thead>\n",
       "    <tr style=\"text-align: right;\">\n",
       "      <th></th>\n",
       "      <th>age</th>\n",
       "      <th>Gender</th>\n",
       "      <th>Region</th>\n",
       "      <th>Rented_OwnHouse</th>\n",
       "      <th>Occupation</th>\n",
       "      <th>Education</th>\n",
       "    </tr>\n",
       "  </thead>\n",
       "  <tbody>\n",
       "    <tr>\n",
       "      <th>0</th>\n",
       "      <td>Middle_Adult</td>\n",
       "      <td>Male</td>\n",
       "      <td>South</td>\n",
       "      <td>Ownhouse</td>\n",
       "      <td>Self_Emp</td>\n",
       "      <td>Matric</td>\n",
       "    </tr>\n",
       "    <tr>\n",
       "      <th>1</th>\n",
       "      <td>Middle_Adult</td>\n",
       "      <td>Female</td>\n",
       "      <td>South</td>\n",
       "      <td>Ownhouse</td>\n",
       "      <td>Self_Emp</td>\n",
       "      <td>Graduate</td>\n",
       "    </tr>\n",
       "    <tr>\n",
       "      <th>2</th>\n",
       "      <td>Middle_Adult</td>\n",
       "      <td>Female</td>\n",
       "      <td>South</td>\n",
       "      <td>Ownhouse</td>\n",
       "      <td>Self_Emp</td>\n",
       "      <td>PhD</td>\n",
       "    </tr>\n",
       "    <tr>\n",
       "      <th>3</th>\n",
       "      <td>Middle_Adult</td>\n",
       "      <td>Female</td>\n",
       "      <td>South</td>\n",
       "      <td>Ownhouse</td>\n",
       "      <td>Self_Emp</td>\n",
       "      <td>Professional</td>\n",
       "    </tr>\n",
       "    <tr>\n",
       "      <th>4</th>\n",
       "      <td>Middle_Adult</td>\n",
       "      <td>Male</td>\n",
       "      <td>South</td>\n",
       "      <td>Ownhouse</td>\n",
       "      <td>Self_Emp</td>\n",
       "      <td>Post-Grad</td>\n",
       "    </tr>\n",
       "  </tbody>\n",
       "</table>\n",
       "</div>"
      ],
      "text/plain": [
       "            age  Gender Region Rented_OwnHouse Occupation     Education\n",
       "0  Middle_Adult    Male  South        Ownhouse   Self_Emp        Matric\n",
       "1  Middle_Adult  Female  South        Ownhouse   Self_Emp      Graduate\n",
       "2  Middle_Adult  Female  South        Ownhouse   Self_Emp           PhD\n",
       "3  Middle_Adult  Female  South        Ownhouse   Self_Emp  Professional\n",
       "4  Middle_Adult    Male  South        Ownhouse   Self_Emp     Post-Grad"
      ]
     },
     "execution_count": 30,
     "metadata": {},
     "output_type": "execute_result"
    }
   ],
   "source": [
    "cat_data=df.select_dtypes(include=object)\n",
    "cat_data.head()"
   ]
  },
  {
   "cell_type": "code",
   "execution_count": 31,
   "metadata": {},
   "outputs": [
    {
     "data": {
      "text/html": [
       "<div>\n",
       "<style scoped>\n",
       "    .dataframe tbody tr th:only-of-type {\n",
       "        vertical-align: middle;\n",
       "    }\n",
       "\n",
       "    .dataframe tbody tr th {\n",
       "        vertical-align: top;\n",
       "    }\n",
       "\n",
       "    .dataframe thead th {\n",
       "        text-align: right;\n",
       "    }\n",
       "</style>\n",
       "<table border=\"1\" class=\"dataframe\">\n",
       "  <thead>\n",
       "    <tr style=\"text-align: right;\">\n",
       "      <th></th>\n",
       "      <th>age</th>\n",
       "      <th>Gender</th>\n",
       "      <th>Region</th>\n",
       "      <th>Rented_OwnHouse</th>\n",
       "      <th>Occupation</th>\n",
       "      <th>Education</th>\n",
       "    </tr>\n",
       "  </thead>\n",
       "  <tbody>\n",
       "    <tr>\n",
       "      <th>0</th>\n",
       "      <td>3</td>\n",
       "      <td>1</td>\n",
       "      <td>3</td>\n",
       "      <td>0</td>\n",
       "      <td>4</td>\n",
       "      <td>1</td>\n",
       "    </tr>\n",
       "    <tr>\n",
       "      <th>1</th>\n",
       "      <td>3</td>\n",
       "      <td>0</td>\n",
       "      <td>3</td>\n",
       "      <td>0</td>\n",
       "      <td>4</td>\n",
       "      <td>0</td>\n",
       "    </tr>\n",
       "    <tr>\n",
       "      <th>2</th>\n",
       "      <td>3</td>\n",
       "      <td>0</td>\n",
       "      <td>3</td>\n",
       "      <td>0</td>\n",
       "      <td>4</td>\n",
       "      <td>2</td>\n",
       "    </tr>\n",
       "    <tr>\n",
       "      <th>3</th>\n",
       "      <td>3</td>\n",
       "      <td>0</td>\n",
       "      <td>3</td>\n",
       "      <td>0</td>\n",
       "      <td>4</td>\n",
       "      <td>4</td>\n",
       "    </tr>\n",
       "    <tr>\n",
       "      <th>4</th>\n",
       "      <td>3</td>\n",
       "      <td>1</td>\n",
       "      <td>3</td>\n",
       "      <td>0</td>\n",
       "      <td>4</td>\n",
       "      <td>3</td>\n",
       "    </tr>\n",
       "    <tr>\n",
       "      <th>...</th>\n",
       "      <td>...</td>\n",
       "      <td>...</td>\n",
       "      <td>...</td>\n",
       "      <td>...</td>\n",
       "      <td>...</td>\n",
       "      <td>...</td>\n",
       "    </tr>\n",
       "    <tr>\n",
       "      <th>149995</th>\n",
       "      <td>2</td>\n",
       "      <td>1</td>\n",
       "      <td>2</td>\n",
       "      <td>0</td>\n",
       "      <td>0</td>\n",
       "      <td>4</td>\n",
       "    </tr>\n",
       "    <tr>\n",
       "      <th>149996</th>\n",
       "      <td>3</td>\n",
       "      <td>1</td>\n",
       "      <td>2</td>\n",
       "      <td>0</td>\n",
       "      <td>4</td>\n",
       "      <td>4</td>\n",
       "    </tr>\n",
       "    <tr>\n",
       "      <th>149997</th>\n",
       "      <td>3</td>\n",
       "      <td>1</td>\n",
       "      <td>2</td>\n",
       "      <td>1</td>\n",
       "      <td>2</td>\n",
       "      <td>4</td>\n",
       "    </tr>\n",
       "    <tr>\n",
       "      <th>149998</th>\n",
       "      <td>3</td>\n",
       "      <td>1</td>\n",
       "      <td>2</td>\n",
       "      <td>1</td>\n",
       "      <td>0</td>\n",
       "      <td>4</td>\n",
       "    </tr>\n",
       "    <tr>\n",
       "      <th>149999</th>\n",
       "      <td>2</td>\n",
       "      <td>1</td>\n",
       "      <td>2</td>\n",
       "      <td>0</td>\n",
       "      <td>4</td>\n",
       "      <td>4</td>\n",
       "    </tr>\n",
       "  </tbody>\n",
       "</table>\n",
       "<p>150000 rows × 6 columns</p>\n",
       "</div>"
      ],
      "text/plain": [
       "        age  Gender  Region  Rented_OwnHouse  Occupation  Education\n",
       "0         3       1       3                0           4          1\n",
       "1         3       0       3                0           4          0\n",
       "2         3       0       3                0           4          2\n",
       "3         3       0       3                0           4          4\n",
       "4         3       1       3                0           4          3\n",
       "...     ...     ...     ...              ...         ...        ...\n",
       "149995    2       1       2                0           0          4\n",
       "149996    3       1       2                0           4          4\n",
       "149997    3       1       2                1           2          4\n",
       "149998    3       1       2                1           0          4\n",
       "149999    2       1       2                0           4          4\n",
       "\n",
       "[150000 rows x 6 columns]"
      ]
     },
     "execution_count": 31,
     "metadata": {},
     "output_type": "execute_result"
    }
   ],
   "source": [
    "cat_data['age']=lb.fit_transform(cat_data['age'])\n",
    "cat_data['Gender']=lb.fit_transform(cat_data['Gender'])\n",
    "cat_data['Region']=lb.fit_transform(cat_data['Region'])\n",
    "cat_data['Rented_OwnHouse']=lb.fit_transform(cat_data['Rented_OwnHouse'])\n",
    "cat_data['Occupation']=lb.fit_transform(cat_data['Occupation'])\n",
    "cat_data['Education']=lb.fit_transform(cat_data['Education'])\n",
    "cat_data\n"
   ]
  },
  {
   "cell_type": "code",
   "execution_count": 32,
   "metadata": {},
   "outputs": [],
   "source": [
    "X=cat_data\n",
    "Y=df['Good_Bad']"
   ]
  },
  {
   "cell_type": "markdown",
   "metadata": {},
   "source": [
    "Checking relationship between categorical variables and target variable."
   ]
  },
  {
   "cell_type": "code",
   "execution_count": 33,
   "metadata": {},
   "outputs": [
    {
     "data": {
      "text/plain": [
       "(array([6.60935010e+00, 1.35736842e+00, 8.57256291e+03, 7.32621097e-01,\n",
       "        2.79330648e-01, 2.18863964e+02]),\n",
       " array([1.01444678e-02, 2.43994078e-01, 0.00000000e+00, 3.92034906e-01,\n",
       "        5.97140270e-01, 1.60023918e-49]))"
      ]
     },
     "execution_count": 33,
     "metadata": {},
     "output_type": "execute_result"
    }
   ],
   "source": [
    "chi_scores= chi2(X,Y)\n",
    "chi_scores"
   ]
  },
  {
   "cell_type": "code",
   "execution_count": 34,
   "metadata": {},
   "outputs": [
    {
     "data": {
      "text/plain": [
       "Occupation         5.971403e-01\n",
       "Rented_OwnHouse    3.920349e-01\n",
       "Gender             2.439941e-01\n",
       "age                1.014447e-02\n",
       "Education          1.600239e-49\n",
       "Region             0.000000e+00\n",
       "dtype: float64"
      ]
     },
     "execution_count": 34,
     "metadata": {},
     "output_type": "execute_result"
    }
   ],
   "source": [
    "pvalue=pd.Series(chi_scores[1],index=X.columns)\n",
    "pvalue=pvalue.sort_values(ascending=False,inplace=False)\n",
    "pvalue\n"
   ]
  },
  {
   "cell_type": "code",
   "execution_count": 35,
   "metadata": {},
   "outputs": [
    {
     "data": {
      "text/plain": [
       "<AxesSubplot:>"
      ]
     },
     "execution_count": 35,
     "metadata": {},
     "output_type": "execute_result"
    },
    {
     "data": {
      "image/png": "[encoded data removed]",
      "text/plain": [
       "<Figure size 432x288 with 1 Axes>"
      ]
     },
     "metadata": {
      "needs_background": "light"
     },
     "output_type": "display_data"
    }
   ],
   "source": [
    "pvalue.plot.bar()"
   ]
  },
  {
   "cell_type": "markdown",
   "metadata": {},
   "source": [
    "From the above graph \"Occupation\", \"Rented_OwnHouse\" and \"Gender\" variables have high p-value, so will remove it form the DataSet."
   ]
  },
  {
   "cell_type": "code",
   "execution_count": 36,
   "metadata": {},
   "outputs": [
    {
     "data": {
      "text/html": [
       "<div>\n",
       "<style scoped>\n",
       "    .dataframe tbody tr th:only-of-type {\n",
       "        vertical-align: middle;\n",
       "    }\n",
       "\n",
       "    .dataframe tbody tr th {\n",
       "        vertical-align: top;\n",
       "    }\n",
       "\n",
       "    .dataframe thead th {\n",
       "        text-align: right;\n",
       "    }\n",
       "</style>\n",
       "<table border=\"1\" class=\"dataframe\">\n",
       "  <thead>\n",
       "    <tr style=\"text-align: right;\">\n",
       "      <th></th>\n",
       "      <th>age</th>\n",
       "      <th>Region</th>\n",
       "      <th>Education</th>\n",
       "    </tr>\n",
       "  </thead>\n",
       "  <tbody>\n",
       "    <tr>\n",
       "      <th>0</th>\n",
       "      <td>3</td>\n",
       "      <td>3</td>\n",
       "      <td>1</td>\n",
       "    </tr>\n",
       "    <tr>\n",
       "      <th>1</th>\n",
       "      <td>3</td>\n",
       "      <td>3</td>\n",
       "      <td>0</td>\n",
       "    </tr>\n",
       "    <tr>\n",
       "      <th>2</th>\n",
       "      <td>3</td>\n",
       "      <td>3</td>\n",
       "      <td>2</td>\n",
       "    </tr>\n",
       "    <tr>\n",
       "      <th>3</th>\n",
       "      <td>3</td>\n",
       "      <td>3</td>\n",
       "      <td>4</td>\n",
       "    </tr>\n",
       "    <tr>\n",
       "      <th>4</th>\n",
       "      <td>3</td>\n",
       "      <td>3</td>\n",
       "      <td>3</td>\n",
       "    </tr>\n",
       "  </tbody>\n",
       "</table>\n",
       "</div>"
      ],
      "text/plain": [
       "   age  Region  Education\n",
       "0    3       3          1\n",
       "1    3       3          0\n",
       "2    3       3          2\n",
       "3    3       3          4\n",
       "4    3       3          3"
      ]
     },
     "execution_count": 36,
     "metadata": {},
     "output_type": "execute_result"
    }
   ],
   "source": [
    "cat_data=cat_data.drop(['Occupation','Rented_OwnHouse','Gender'],1)\n",
    "cat_data.head()\n"
   ]
  },
  {
   "cell_type": "code",
   "execution_count": 37,
   "metadata": {},
   "outputs": [
    {
     "data": {
      "text/html": [
       "<div>\n",
       "<style scoped>\n",
       "    .dataframe tbody tr th:only-of-type {\n",
       "        vertical-align: middle;\n",
       "    }\n",
       "\n",
       "    .dataframe tbody tr th {\n",
       "        vertical-align: top;\n",
       "    }\n",
       "\n",
       "    .dataframe thead th {\n",
       "        text-align: right;\n",
       "    }\n",
       "</style>\n",
       "<table border=\"1\" class=\"dataframe\">\n",
       "  <thead>\n",
       "    <tr style=\"text-align: right;\">\n",
       "      <th></th>\n",
       "      <th>NPA Status</th>\n",
       "      <th>RevolvingUtilizationOfUnsecuredLines</th>\n",
       "      <th>MonthlyIncome</th>\n",
       "      <th>DebtRatio</th>\n",
       "      <th>NumberOfOpenCreditLinesAndLoans</th>\n",
       "      <th>NumberOfTimes90DaysLate</th>\n",
       "      <th>NumberRealEstateLoansOrLines</th>\n",
       "      <th>NumberOfDependents</th>\n",
       "      <th>Good_Bad</th>\n",
       "      <th>age</th>\n",
       "      <th>Region</th>\n",
       "      <th>Education</th>\n",
       "    </tr>\n",
       "  </thead>\n",
       "  <tbody>\n",
       "    <tr>\n",
       "      <th>0</th>\n",
       "      <td>1.0</td>\n",
       "      <td>0.960827</td>\n",
       "      <td>15.416950</td>\n",
       "      <td>0.985839</td>\n",
       "      <td>3.605551</td>\n",
       "      <td>0.0</td>\n",
       "      <td>2.44949</td>\n",
       "      <td>1.003717</td>\n",
       "      <td>1</td>\n",
       "      <td>3</td>\n",
       "      <td>3</td>\n",
       "      <td>1</td>\n",
       "    </tr>\n",
       "    <tr>\n",
       "      <th>1</th>\n",
       "      <td>0.0</td>\n",
       "      <td>0.993452</td>\n",
       "      <td>10.580154</td>\n",
       "      <td>0.872137</td>\n",
       "      <td>2.000000</td>\n",
       "      <td>0.0</td>\n",
       "      <td>0.00000</td>\n",
       "      <td>1.000477</td>\n",
       "      <td>0</td>\n",
       "      <td>3</td>\n",
       "      <td>3</td>\n",
       "      <td>0</td>\n",
       "    </tr>\n",
       "    <tr>\n",
       "      <th>2</th>\n",
       "      <td>0.0</td>\n",
       "      <td>0.939186</td>\n",
       "      <td>11.090414</td>\n",
       "      <td>0.852020</td>\n",
       "      <td>1.414214</td>\n",
       "      <td>1.0</td>\n",
       "      <td>0.00000</td>\n",
       "      <td>0.988553</td>\n",
       "      <td>0</td>\n",
       "      <td>3</td>\n",
       "      <td>3</td>\n",
       "      <td>2</td>\n",
       "    </tr>\n",
       "    <tr>\n",
       "      <th>3</th>\n",
       "      <td>0.0</td>\n",
       "      <td>0.804136</td>\n",
       "      <td>11.364601</td>\n",
       "      <td>0.805747</td>\n",
       "      <td>2.236068</td>\n",
       "      <td>0.0</td>\n",
       "      <td>0.00000</td>\n",
       "      <td>0.988553</td>\n",
       "      <td>0</td>\n",
       "      <td>3</td>\n",
       "      <td>3</td>\n",
       "      <td>4</td>\n",
       "    </tr>\n",
       "    <tr>\n",
       "      <th>4</th>\n",
       "      <td>0.0</td>\n",
       "      <td>0.985504</td>\n",
       "      <td>27.606576</td>\n",
       "      <td>0.786651</td>\n",
       "      <td>2.645751</td>\n",
       "      <td>0.0</td>\n",
       "      <td>1.00000</td>\n",
       "      <td>0.988553</td>\n",
       "      <td>0</td>\n",
       "      <td>3</td>\n",
       "      <td>3</td>\n",
       "      <td>3</td>\n",
       "    </tr>\n",
       "  </tbody>\n",
       "</table>\n",
       "</div>"
      ],
      "text/plain": [
       "   NPA Status  RevolvingUtilizationOfUnsecuredLines  MonthlyIncome  DebtRatio  \\\n",
       "0         1.0                              0.960827      15.416950   0.985839   \n",
       "1         0.0                              0.993452      10.580154   0.872137   \n",
       "2         0.0                              0.939186      11.090414   0.852020   \n",
       "3         0.0                              0.804136      11.364601   0.805747   \n",
       "4         0.0                              0.985504      27.606576   0.786651   \n",
       "\n",
       "   NumberOfOpenCreditLinesAndLoans  NumberOfTimes90DaysLate  \\\n",
       "0                         3.605551                      0.0   \n",
       "1                         2.000000                      0.0   \n",
       "2                         1.414214                      1.0   \n",
       "3                         2.236068                      0.0   \n",
       "4                         2.645751                      0.0   \n",
       "\n",
       "   NumberRealEstateLoansOrLines  NumberOfDependents  Good_Bad  age  Region  \\\n",
       "0                       2.44949            1.003717         1    3       3   \n",
       "1                       0.00000            1.000477         0    3       3   \n",
       "2                       0.00000            0.988553         0    3       3   \n",
       "3                       0.00000            0.988553         0    3       3   \n",
       "4                       1.00000            0.988553         0    3       3   \n",
       "\n",
       "   Education  \n",
       "0          1  \n",
       "1          0  \n",
       "2          2  \n",
       "3          4  \n",
       "4          3  "
      ]
     },
     "execution_count": 37,
     "metadata": {},
     "output_type": "execute_result"
    }
   ],
   "source": [
    "final_data=pd.concat([num_data,cat_data],1)\n",
    "final_data.head()\n"
   ]
  },
  {
   "cell_type": "markdown",
   "metadata": {},
   "source": [
    "DataType of all variables should be same"
   ]
  },
  {
   "cell_type": "code",
   "execution_count": 38,
   "metadata": {},
   "outputs": [
    {
     "name": "stdout",
     "output_type": "stream",
     "text": [
      "<class 'pandas.core.frame.DataFrame'>\n",
      "Int64Index: 150000 entries, 0 to 149999\n",
      "Data columns (total 12 columns):\n",
      " #   Column                                Non-Null Count   Dtype\n",
      "---  ------                                --------------   -----\n",
      " 0   NPA Status                            150000 non-null  int32\n",
      " 1   RevolvingUtilizationOfUnsecuredLines  150000 non-null  int32\n",
      " 2   MonthlyIncome                         150000 non-null  int32\n",
      " 3   DebtRatio                             150000 non-null  int32\n",
      " 4   NumberOfOpenCreditLinesAndLoans       150000 non-null  int32\n",
      " 5   NumberOfTimes90DaysLate               150000 non-null  int32\n",
      " 6   NumberRealEstateLoansOrLines          150000 non-null  int32\n",
      " 7   NumberOfDependents                    150000 non-null  int32\n",
      " 8   Good_Bad                              150000 non-null  int32\n",
      " 9   age                                   150000 non-null  int32\n",
      " 10  Region                                150000 non-null  int32\n",
      " 11  Education                             150000 non-null  int32\n",
      "dtypes: int32(12)\n",
      "memory usage: 8.0 MB\n"
     ]
    }
   ],
   "source": [
    "final_data=final_data.astype(int)\n",
    "final_data.info()\n"
   ]
  },
  {
   "cell_type": "code",
   "execution_count": 39,
   "metadata": {},
   "outputs": [
    {
     "data": {
      "text/html": [
       "<div>\n",
       "<style scoped>\n",
       "    .dataframe tbody tr th:only-of-type {\n",
       "        vertical-align: middle;\n",
       "    }\n",
       "\n",
       "    .dataframe tbody tr th {\n",
       "        vertical-align: top;\n",
       "    }\n",
       "\n",
       "    .dataframe thead th {\n",
       "        text-align: right;\n",
       "    }\n",
       "</style>\n",
       "<table border=\"1\" class=\"dataframe\">\n",
       "  <thead>\n",
       "    <tr style=\"text-align: right;\">\n",
       "      <th></th>\n",
       "      <th>NPA Status</th>\n",
       "      <th>RevolvingUtilizationOfUnsecuredLines</th>\n",
       "      <th>MonthlyIncome</th>\n",
       "      <th>DebtRatio</th>\n",
       "      <th>NumberOfOpenCreditLinesAndLoans</th>\n",
       "      <th>NumberOfTimes90DaysLate</th>\n",
       "      <th>NumberRealEstateLoansOrLines</th>\n",
       "      <th>NumberOfDependents</th>\n",
       "      <th>Good_Bad</th>\n",
       "      <th>age</th>\n",
       "      <th>Region</th>\n",
       "      <th>Education</th>\n",
       "    </tr>\n",
       "  </thead>\n",
       "  <tbody>\n",
       "    <tr>\n",
       "      <th>0</th>\n",
       "      <td>1</td>\n",
       "      <td>0</td>\n",
       "      <td>15</td>\n",
       "      <td>0</td>\n",
       "      <td>3</td>\n",
       "      <td>0</td>\n",
       "      <td>2</td>\n",
       "      <td>1</td>\n",
       "      <td>1</td>\n",
       "      <td>3</td>\n",
       "      <td>3</td>\n",
       "      <td>1</td>\n",
       "    </tr>\n",
       "    <tr>\n",
       "      <th>1</th>\n",
       "      <td>0</td>\n",
       "      <td>0</td>\n",
       "      <td>10</td>\n",
       "      <td>0</td>\n",
       "      <td>2</td>\n",
       "      <td>0</td>\n",
       "      <td>0</td>\n",
       "      <td>1</td>\n",
       "      <td>0</td>\n",
       "      <td>3</td>\n",
       "      <td>3</td>\n",
       "      <td>0</td>\n",
       "    </tr>\n",
       "    <tr>\n",
       "      <th>2</th>\n",
       "      <td>0</td>\n",
       "      <td>0</td>\n",
       "      <td>11</td>\n",
       "      <td>0</td>\n",
       "      <td>1</td>\n",
       "      <td>1</td>\n",
       "      <td>0</td>\n",
       "      <td>0</td>\n",
       "      <td>0</td>\n",
       "      <td>3</td>\n",
       "      <td>3</td>\n",
       "      <td>2</td>\n",
       "    </tr>\n",
       "    <tr>\n",
       "      <th>3</th>\n",
       "      <td>0</td>\n",
       "      <td>0</td>\n",
       "      <td>11</td>\n",
       "      <td>0</td>\n",
       "      <td>2</td>\n",
       "      <td>0</td>\n",
       "      <td>0</td>\n",
       "      <td>0</td>\n",
       "      <td>0</td>\n",
       "      <td>3</td>\n",
       "      <td>3</td>\n",
       "      <td>4</td>\n",
       "    </tr>\n",
       "    <tr>\n",
       "      <th>4</th>\n",
       "      <td>0</td>\n",
       "      <td>0</td>\n",
       "      <td>27</td>\n",
       "      <td>0</td>\n",
       "      <td>2</td>\n",
       "      <td>0</td>\n",
       "      <td>1</td>\n",
       "      <td>0</td>\n",
       "      <td>0</td>\n",
       "      <td>3</td>\n",
       "      <td>3</td>\n",
       "      <td>3</td>\n",
       "    </tr>\n",
       "  </tbody>\n",
       "</table>\n",
       "</div>"
      ],
      "text/plain": [
       "   NPA Status  RevolvingUtilizationOfUnsecuredLines  MonthlyIncome  DebtRatio  \\\n",
       "0           1                                     0             15          0   \n",
       "1           0                                     0             10          0   \n",
       "2           0                                     0             11          0   \n",
       "3           0                                     0             11          0   \n",
       "4           0                                     0             27          0   \n",
       "\n",
       "   NumberOfOpenCreditLinesAndLoans  NumberOfTimes90DaysLate  \\\n",
       "0                                3                        0   \n",
       "1                                2                        0   \n",
       "2                                1                        1   \n",
       "3                                2                        0   \n",
       "4                                2                        0   \n",
       "\n",
       "   NumberRealEstateLoansOrLines  NumberOfDependents  Good_Bad  age  Region  \\\n",
       "0                             2                   1         1    3       3   \n",
       "1                             0                   1         0    3       3   \n",
       "2                             0                   0         0    3       3   \n",
       "3                             0                   0         0    3       3   \n",
       "4                             1                   0         0    3       3   \n",
       "\n",
       "   Education  \n",
       "0          1  \n",
       "1          0  \n",
       "2          2  \n",
       "3          4  \n",
       "4          3  "
      ]
     },
     "execution_count": 39,
     "metadata": {},
     "output_type": "execute_result"
    }
   ],
   "source": [
    "final_data.head()"
   ]
  },
  {
   "cell_type": "markdown",
   "metadata": {},
   "source": [
    "# Data imbalance"
   ]
  },
  {
   "cell_type": "code",
   "execution_count": 40,
   "metadata": {},
   "outputs": [
    {
     "data": {
      "text/plain": [
       "0    139974\n",
       "1     10026\n",
       "Name: Good_Bad, dtype: int64"
      ]
     },
     "execution_count": 40,
     "metadata": {},
     "output_type": "execute_result"
    }
   ],
   "source": [
    "final_data['Good_Bad'].value_counts()\n"
   ]
  },
  {
   "cell_type": "code",
   "execution_count": 41,
   "metadata": {},
   "outputs": [
    {
     "data": {
      "text/plain": [
       "<AxesSubplot:xlabel='Good_Bad', ylabel='count'>"
      ]
     },
     "execution_count": 41,
     "metadata": {},
     "output_type": "execute_result"
    },
    {
     "data": {
      "image/png": "[encoded data removed]",
      "text/plain": [
       "<Figure size 432x288 with 1 Axes>"
      ]
     },
     "metadata": {
      "needs_background": "light"
     },
     "output_type": "display_data"
    }
   ],
   "source": [
    "sns.countplot(final_data['Good_Bad'])\n"
   ]
  },
  {
   "cell_type": "code",
   "execution_count": 42,
   "metadata": {},
   "outputs": [
    {
     "name": "stdout",
     "output_type": "stream",
     "text": [
      "Bad count: (10026, 12) And Good count: (139974, 12)\n"
     ]
    }
   ],
   "source": [
    "bad = final_data[final_data[\"Good_Bad\"]==1]\n",
    "good = final_data[final_data[\"Good_Bad\"]==0]\n",
    "print(\"Bad count:\",bad.shape,\"And Good count:\",good.shape)"
   ]
  },
  {
   "cell_type": "markdown",
   "metadata": {},
   "source": [
    "From the above graph, it is clear that we have much unbalanced data in target variable. \"Bad\" is 139974 and \"Good\" is 10026"
   ]
  },
  {
   "cell_type": "code",
   "execution_count": 43,
   "metadata": {},
   "outputs": [],
   "source": [
    "x=final_data.drop('Good_Bad',1)\n",
    "y=final_data['Good_Bad']"
   ]
  },
  {
   "cell_type": "code",
   "execution_count": 44,
   "metadata": {},
   "outputs": [
    {
     "data": {
      "text/plain": [
       "array([[ 3.73645569, -0.13916078,  0.43938043, ...,  0.6421013 ,\n",
       "         0.8104916 , -0.78799287],\n",
       "       [-0.26763331, -0.13916078, -1.02104742, ...,  0.6421013 ,\n",
       "         0.8104916 , -1.39810225],\n",
       "       [-0.26763331, -0.13916078, -0.72896185, ...,  0.6421013 ,\n",
       "         0.8104916 , -0.17788349],\n",
       "       ...,\n",
       "       [-0.26763331, -0.13916078,  1.02355157, ...,  0.6421013 ,\n",
       "         0.13195312,  1.04233527],\n",
       "       [-0.26763331, -0.13916078, -0.14479071, ...,  0.6421013 ,\n",
       "         0.13195312,  1.04233527],\n",
       "       [-0.26763331, -0.13916078,  0.14729486, ..., -0.64587938,\n",
       "         0.13195312,  1.04233527]])"
      ]
     },
     "execution_count": 44,
     "metadata": {},
     "output_type": "execute_result"
    }
   ],
   "source": [
    "from sklearn.preprocessing import StandardScaler\n",
    "sc = StandardScaler()\n",
    "scaled= sc.fit_transform(x)\n",
    "scaled"
   ]
  },
  {
   "cell_type": "code",
   "execution_count": 45,
   "metadata": {},
   "outputs": [],
   "source": [
    "smk = SMOTETomek(random_state=42)\n",
    "x_res,y_res = smk.fit_resample(x,y)"
   ]
  },
  {
   "cell_type": "code",
   "execution_count": 46,
   "metadata": {},
   "outputs": [
    {
     "data": {
      "text/plain": [
       "((279926, 11), (279926,))"
      ]
     },
     "execution_count": 46,
     "metadata": {},
     "output_type": "execute_result"
    }
   ],
   "source": [
    "x_res.shape, y_res.shape, "
   ]
  },
  {
   "cell_type": "code",
   "execution_count": 47,
   "metadata": {},
   "outputs": [
    {
     "name": "stdout",
     "output_type": "stream",
     "text": [
      "Original Dataset shapeCounter({0: 139974, 1: 10026})\n",
      "Resample Dataset shapeCounter({1: 139963, 0: 139963})\n"
     ]
    }
   ],
   "source": [
    "from collections import Counter\n",
    "print(\"Original Dataset shape{}\".format(Counter(y)))\n",
    "print(\"Resample Dataset shape{}\".format(Counter(y_res)))"
   ]
  },
  {
   "cell_type": "markdown",
   "metadata": {},
   "source": [
    "Initially we have target variable of 139974:10026. But after over sampling it became 139960:139960."
   ]
  },
  {
   "cell_type": "code",
   "execution_count": 48,
   "metadata": {},
   "outputs": [],
   "source": [
    "from sklearn.model_selection import train_test_split\n",
    "X_train, X_test, y_train, y_test = train_test_split(x, y, test_size = 0.3,random_state=42)"
   ]
  },
  {
   "cell_type": "markdown",
   "metadata": {},
   "source": [
    "# Model Training\n",
    "1. Naive Bayes\n",
    "2. Logistic Regression\n",
    "3. Decision Tree\n",
    "4. Random Forest\n",
    "5. K-Neirest Neighbor"
   ]
  },
  {
   "cell_type": "markdown",
   "metadata": {},
   "source": [
    "# Naive Bayes Classifier"
   ]
  },
  {
   "cell_type": "code",
   "execution_count": 49,
   "metadata": {},
   "outputs": [
    {
     "data": {
      "text/plain": [
       "GaussianNB()"
      ]
     },
     "execution_count": 49,
     "metadata": {},
     "output_type": "execute_result"
    }
   ],
   "source": [
    "model=GaussianNB()\n",
    "model.fit(X_train,y_train)"
   ]
  },
  {
   "cell_type": "code",
   "execution_count": 50,
   "metadata": {},
   "outputs": [],
   "source": [
    "y_pred=model.predict(X_test)\n"
   ]
  },
  {
   "cell_type": "code",
   "execution_count": 51,
   "metadata": {},
   "outputs": [
    {
     "data": {
      "text/plain": [
       "1.0"
      ]
     },
     "execution_count": 51,
     "metadata": {},
     "output_type": "execute_result"
    }
   ],
   "source": [
    "NBC=accuracy_score(y_test,y_pred)\n",
    "NBC"
   ]
  },
  {
   "cell_type": "code",
   "execution_count": 52,
   "metadata": {},
   "outputs": [
    {
     "name": "stdout",
     "output_type": "stream",
     "text": [
      "              precision    recall  f1-score   support\n",
      "\n",
      "           0       1.00      1.00      1.00     42020\n",
      "           1       1.00      1.00      1.00      2980\n",
      "\n",
      "    accuracy                           1.00     45000\n",
      "   macro avg       1.00      1.00      1.00     45000\n",
      "weighted avg       1.00      1.00      1.00     45000\n",
      "\n"
     ]
    }
   ],
   "source": [
    "print(classification_report(y_test,y_pred))\n"
   ]
  },
  {
   "cell_type": "markdown",
   "metadata": {},
   "source": [
    "# Logistic Regression"
   ]
  },
  {
   "cell_type": "code",
   "execution_count": 53,
   "metadata": {},
   "outputs": [
    {
     "data": {
      "text/plain": [
       "LogisticRegression()"
      ]
     },
     "execution_count": 53,
     "metadata": {},
     "output_type": "execute_result"
    }
   ],
   "source": [
    "model=LogisticRegression()\n",
    "model.fit(X_train,y_train)"
   ]
  },
  {
   "cell_type": "code",
   "execution_count": 54,
   "metadata": {},
   "outputs": [],
   "source": [
    "y_pred=model.predict(X_test)\n"
   ]
  },
  {
   "cell_type": "code",
   "execution_count": 55,
   "metadata": {},
   "outputs": [
    {
     "data": {
      "text/plain": [
       "1.0"
      ]
     },
     "execution_count": 55,
     "metadata": {},
     "output_type": "execute_result"
    }
   ],
   "source": [
    "LR=accuracy_score(y_test,y_pred)\n",
    "LR"
   ]
  },
  {
   "cell_type": "code",
   "execution_count": 56,
   "metadata": {},
   "outputs": [
    {
     "name": "stdout",
     "output_type": "stream",
     "text": [
      "              precision    recall  f1-score   support\n",
      "\n",
      "           0       1.00      1.00      1.00     42020\n",
      "           1       1.00      1.00      1.00      2980\n",
      "\n",
      "    accuracy                           1.00     45000\n",
      "   macro avg       1.00      1.00      1.00     45000\n",
      "weighted avg       1.00      1.00      1.00     45000\n",
      "\n"
     ]
    }
   ],
   "source": [
    "print(classification_report(y_test,y_pred))"
   ]
  },
  {
   "cell_type": "markdown",
   "metadata": {},
   "source": [
    "# Decision Tree Classifier"
   ]
  },
  {
   "cell_type": "code",
   "execution_count": 57,
   "metadata": {},
   "outputs": [
    {
     "data": {
      "text/plain": [
       "DecisionTreeClassifier()"
      ]
     },
     "execution_count": 57,
     "metadata": {},
     "output_type": "execute_result"
    }
   ],
   "source": [
    "model=DecisionTreeClassifier()\n",
    "model.fit(X_train,y_train)"
   ]
  },
  {
   "cell_type": "code",
   "execution_count": 58,
   "metadata": {},
   "outputs": [],
   "source": [
    "y_pred=model.predict(X_test)\n"
   ]
  },
  {
   "cell_type": "code",
   "execution_count": 59,
   "metadata": {},
   "outputs": [
    {
     "data": {
      "text/plain": [
       "1.0"
      ]
     },
     "execution_count": 59,
     "metadata": {},
     "output_type": "execute_result"
    }
   ],
   "source": [
    "DTC=accuracy_score(y_test,y_pred)\n",
    "DTC"
   ]
  },
  {
   "cell_type": "code",
   "execution_count": 60,
   "metadata": {},
   "outputs": [
    {
     "name": "stdout",
     "output_type": "stream",
     "text": [
      "              precision    recall  f1-score   support\n",
      "\n",
      "           0       1.00      1.00      1.00     42020\n",
      "           1       1.00      1.00      1.00      2980\n",
      "\n",
      "    accuracy                           1.00     45000\n",
      "   macro avg       1.00      1.00      1.00     45000\n",
      "weighted avg       1.00      1.00      1.00     45000\n",
      "\n"
     ]
    }
   ],
   "source": [
    "print(classification_report(y_test,y_pred))"
   ]
  },
  {
   "cell_type": "markdown",
   "metadata": {},
   "source": [
    "# Random Forest Classifier"
   ]
  },
  {
   "cell_type": "code",
   "execution_count": 61,
   "metadata": {},
   "outputs": [
    {
     "data": {
      "text/plain": [
       "RandomForestClassifier()"
      ]
     },
     "execution_count": 61,
     "metadata": {},
     "output_type": "execute_result"
    }
   ],
   "source": [
    "model1=RandomForestClassifier()\n",
    "model1.fit(X_train,y_train)"
   ]
  },
  {
   "cell_type": "code",
   "execution_count": 62,
   "metadata": {},
   "outputs": [],
   "source": [
    "y_pred=model1.predict(X_test)"
   ]
  },
  {
   "cell_type": "code",
   "execution_count": 63,
   "metadata": {},
   "outputs": [
    {
     "data": {
      "text/plain": [
       "1.0"
      ]
     },
     "execution_count": 63,
     "metadata": {},
     "output_type": "execute_result"
    }
   ],
   "source": [
    "RFC=accuracy_score(y_test,y_pred)\n",
    "RFC"
   ]
  },
  {
   "cell_type": "code",
   "execution_count": 64,
   "metadata": {},
   "outputs": [
    {
     "name": "stdout",
     "output_type": "stream",
     "text": [
      "              precision    recall  f1-score   support\n",
      "\n",
      "           0       1.00      1.00      1.00     42020\n",
      "           1       1.00      1.00      1.00      2980\n",
      "\n",
      "    accuracy                           1.00     45000\n",
      "   macro avg       1.00      1.00      1.00     45000\n",
      "weighted avg       1.00      1.00      1.00     45000\n",
      "\n"
     ]
    }
   ],
   "source": [
    "print(classification_report(y_test,y_pred))"
   ]
  },
  {
   "cell_type": "markdown",
   "metadata": {},
   "source": [
    "# K-Neighbors Classifier"
   ]
  },
  {
   "cell_type": "code",
   "execution_count": 65,
   "metadata": {},
   "outputs": [],
   "source": [
    "knn=KNeighborsClassifier(n_neighbors=20)"
   ]
  },
  {
   "cell_type": "code",
   "execution_count": 66,
   "metadata": {},
   "outputs": [
    {
     "data": {
      "text/plain": [
       "KNeighborsClassifier(n_neighbors=20)"
      ]
     },
     "execution_count": 66,
     "metadata": {},
     "output_type": "execute_result"
    }
   ],
   "source": [
    "knn.fit(X_train, y_train)"
   ]
  },
  {
   "cell_type": "code",
   "execution_count": 67,
   "metadata": {},
   "outputs": [
    {
     "data": {
      "text/plain": [
       "array([0, 0, 0, ..., 0, 0, 0])"
      ]
     },
     "execution_count": 67,
     "metadata": {},
     "output_type": "execute_result"
    }
   ],
   "source": [
    "y_test_pred = knn.predict(X_test)\n",
    "y_test_pred"
   ]
  },
  {
   "cell_type": "code",
   "execution_count": 68,
   "metadata": {},
   "outputs": [
    {
     "data": {
      "text/plain": [
       "97.36222222222221"
      ]
     },
     "execution_count": 68,
     "metadata": {},
     "output_type": "execute_result"
    }
   ],
   "source": [
    "KNC=accuracy_score(y_test, y_test_pred)*100\n",
    "KNC"
   ]
  },
  {
   "cell_type": "code",
   "execution_count": 69,
   "metadata": {},
   "outputs": [
    {
     "name": "stdout",
     "output_type": "stream",
     "text": [
      "              precision    recall  f1-score   support\n",
      "\n",
      "           0       0.97      1.00      0.99     42020\n",
      "           1       0.97      0.62      0.76      2980\n",
      "\n",
      "    accuracy                           0.97     45000\n",
      "   macro avg       0.97      0.81      0.87     45000\n",
      "weighted avg       0.97      0.97      0.97     45000\n",
      "\n"
     ]
    }
   ],
   "source": [
    "print(classification_report(y_test, y_test_pred))"
   ]
  },
  {
   "cell_type": "code",
   "execution_count": 70,
   "metadata": {},
   "outputs": [
    {
     "data": {
      "text/html": [
       "<div>\n",
       "<style scoped>\n",
       "    .dataframe tbody tr th:only-of-type {\n",
       "        vertical-align: middle;\n",
       "    }\n",
       "\n",
       "    .dataframe tbody tr th {\n",
       "        vertical-align: top;\n",
       "    }\n",
       "\n",
       "    .dataframe thead th {\n",
       "        text-align: right;\n",
       "    }\n",
       "</style>\n",
       "<table border=\"1\" class=\"dataframe\">\n",
       "  <thead>\n",
       "    <tr style=\"text-align: right;\">\n",
       "      <th></th>\n",
       "      <th>Classifier</th>\n",
       "      <th>Accuracy</th>\n",
       "    </tr>\n",
       "  </thead>\n",
       "  <tbody>\n",
       "    <tr>\n",
       "      <th>0</th>\n",
       "      <td>Naive Bayes Classifier</td>\n",
       "      <td>1.000000</td>\n",
       "    </tr>\n",
       "    <tr>\n",
       "      <th>1</th>\n",
       "      <td>Logistic Regression</td>\n",
       "      <td>1.000000</td>\n",
       "    </tr>\n",
       "    <tr>\n",
       "      <th>2</th>\n",
       "      <td>Decision Tree Classifier</td>\n",
       "      <td>1.000000</td>\n",
       "    </tr>\n",
       "    <tr>\n",
       "      <th>3</th>\n",
       "      <td>Random Forest Classifier</td>\n",
       "      <td>1.000000</td>\n",
       "    </tr>\n",
       "    <tr>\n",
       "      <th>4</th>\n",
       "      <td>K-Neighbors Classifier</td>\n",
       "      <td>97.362222</td>\n",
       "    </tr>\n",
       "  </tbody>\n",
       "</table>\n",
       "</div>"
      ],
      "text/plain": [
       "                 Classifier   Accuracy\n",
       "0    Naive Bayes Classifier   1.000000\n",
       "1       Logistic Regression   1.000000\n",
       "2  Decision Tree Classifier   1.000000\n",
       "3  Random Forest Classifier   1.000000\n",
       "4    K-Neighbors Classifier  97.362222"
      ]
     },
     "execution_count": 70,
     "metadata": {},
     "output_type": "execute_result"
    }
   ],
   "source": [
    "pd.DataFrame({\"Classifier\":[\"Naive Bayes Classifier\",\"Logistic Regression\",\"Decision Tree Classifier\",\"Random Forest Classifier\"\n",
    "                            ,\"K-Neighbors Classifier\"],\"Accuracy\":[NBC,LR,DTC,RFC,KNC]})"
   ]
  },
  {
   "cell_type": "code",
   "execution_count": null,
   "metadata": {},
   "outputs": [],
   "source": []
  }
 ],
 "metadata": {
  "kernelspec": {
   "display_name": "Python 3",
   "language": "python",
   "name": "python3"
  },
  "language_info": {
   "codemirror_mode": {
    "name": "ipython",
    "version": 3
   },
   "file_extension": ".py",
   "mimetype": "text/x-python",
   "name": "python",
   "nbconvert_exporter": "python",
   "pygments_lexer": "ipython3",
   "version": "3.8.5"
  }
 },
 "nbformat": 4,
 "nbformat_minor": 4
}
